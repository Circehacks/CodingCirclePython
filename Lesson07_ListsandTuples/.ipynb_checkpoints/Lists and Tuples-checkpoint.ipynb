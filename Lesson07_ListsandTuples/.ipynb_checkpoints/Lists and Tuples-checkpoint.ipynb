{
 "cells": [
  {
   "cell_type": "markdown",
   "metadata": {},
   "source": [
    "# Lists and Tuples\n",
    "\n",
    "## Lists Recap\n",
    "\n",
    "A list is a sequence of values. These values can be anything: strings, numbers, booleans, even other lists.\n",
    "\n",
    "To make a list you put the items separated by commas between brackets []"
   ]
  },
  {
   "cell_type": "code",
   "execution_count": null,
   "metadata": {
    "collapsed": false
   },
   "outputs": [],
   "source": [
    "sushi_order = ['unagi', 'hamachi', 'otoro']\n",
    "prices = [6.50, 5.50, 15.75]\n",
    "print sushi_order\n",
    "print prices"
   ]
  },
  {
   "cell_type": "markdown",
   "metadata": {},
   "source": [
    "You can access a single element in a list by indexing in using brackets. List indexing starts at 0 so to get the first element, you use 0, the second element is 1 and so on.\n",
    "\n",
    "list[index]\n"
   ]
  },
  {
   "cell_type": "code",
   "execution_count": null,
   "metadata": {
    "collapsed": false
   },
   "outputs": [],
   "source": [
    "print sushi_order[0]\n",
    "print sushi_order[2]"
   ]
  },
  {
   "cell_type": "markdown",
   "metadata": {},
   "source": [
    "You can find the length of a list using len\n",
    "\n",
    "len(list)"
   ]
  },
  {
   "cell_type": "code",
   "execution_count": null,
   "metadata": {
    "collapsed": false
   },
   "outputs": [],
   "source": [
    "print len(sushi_order)"
   ]
  },
  {
   "cell_type": "markdown",
   "metadata": {},
   "source": [
    "You can use negative indexing to get the last element of a list"
   ]
  },
  {
   "cell_type": "code",
   "execution_count": null,
   "metadata": {
    "collapsed": false
   },
   "outputs": [],
   "source": [
    "print sushi_order[-1]"
   ]
  },
  {
   "cell_type": "markdown",
   "metadata": {},
   "source": [
    "## Nested lists\n",
    "\n",
    "lists can contain other lists as elements"
   ]
  },
  {
   "cell_type": "code",
   "execution_count": null,
   "metadata": {
    "collapsed": false
   },
   "outputs": [],
   "source": [
    "everyones_order = [['california roll'], ['unagi', 'dragon roll'], sushi_order]\n",
    "print everyones_order"
   ]
  },
  {
   "cell_type": "markdown",
   "metadata": {},
   "source": [
    "To access an element in a nested list, first index to the inner list, then index to the item\n",
    "\n",
    "    list_of_lists = [[1,2], [3,4], []]\n",
    "    # first index to the inner list\n",
    "    inner_list = list_of_lists[1] # [3,4]\n",
    "    # then index to the item\n",
    "    print inner_list[0] # 3 \n",
    "    # even quicker\n",
    "    list_of_lists[1][0] # 3\n",
    "    \n"
   ]
  },
  {
   "cell_type": "code",
   "execution_count": null,
   "metadata": {
    "collapsed": false
   },
   "outputs": [],
   "source": [
    "# To get dragon roll from the sushi order, first we get the second element (index 1) \n",
    "# then we get the the second item (index 1)\n",
    "print everyones_order[1][1]\n"
   ]
  },
  {
   "cell_type": "markdown",
   "metadata": {},
   "source": [
    "### TRY IT\n",
    "Print california roll from everyones_order"
   ]
  },
  {
   "cell_type": "code",
   "execution_count": null,
   "metadata": {
    "collapsed": true
   },
   "outputs": [],
   "source": []
  },
  {
   "cell_type": "markdown",
   "metadata": {},
   "source": [
    "## Mutable Lists\n",
    "\n",
    "Lists are mutable, that means that you can change elements. \n",
    "\n",
    "To assign a new value to an element\n",
    "\n",
    "    my_list = [1, 2, 3]\n",
    "    my_list[0] = 100"
   ]
  },
  {
   "cell_type": "code",
   "execution_count": null,
   "metadata": {
    "collapsed": false
   },
   "outputs": [],
   "source": [
    "sushi_order[0] = 'caterpillar roll'\n",
    "print sushi_order"
   ]
  },
  {
   "cell_type": "markdown",
   "metadata": {},
   "source": [
    "### TRY IT\n",
    "Update the last element in prices to be 21.00 and print out the new result"
   ]
  },
  {
   "cell_type": "code",
   "execution_count": null,
   "metadata": {
    "collapsed": true
   },
   "outputs": [],
   "source": []
  },
  {
   "cell_type": "markdown",
   "metadata": {},
   "source": [
    "## Operators and Lists\n",
    "\n",
    "The `in` operator allows you to see if an element is contained in a list"
   ]
  },
  {
   "cell_type": "code",
   "execution_count": null,
   "metadata": {
    "collapsed": false
   },
   "outputs": [],
   "source": [
    "print 'unagi' in sushi_order\n",
    "\n",
    "\n",
    "if 'otoro' in sushi_order:\n",
    "    print \"Big spender!\""
   ]
  },
  {
   "cell_type": "markdown",
   "metadata": {},
   "source": [
    "You can use some arithmatic operators on lists\n",
    "\n",
    "The `+` operator concatenates two lists\n",
    "\n",
    "The `*` operator duplicates a list that many times"
   ]
  },
  {
   "cell_type": "code",
   "execution_count": null,
   "metadata": {
    "collapsed": false
   },
   "outputs": [],
   "source": [
    "print sushi_order * 3"
   ]
  },
  {
   "cell_type": "code",
   "execution_count": null,
   "metadata": {
    "collapsed": false
   },
   "outputs": [],
   "source": [
    "print prices + sushi_order"
   ]
  },
  {
   "cell_type": "markdown",
   "metadata": {},
   "source": [
    " Remember slices from strings? We can also use the slice operator on lists"
   ]
  },
  {
   "cell_type": "code",
   "execution_count": null,
   "metadata": {
    "collapsed": false
   },
   "outputs": [],
   "source": [
    "inexpensive = sushi_order[:2]\n",
    "print inexpensive"
   ]
  },
  {
   "cell_type": "markdown",
   "metadata": {},
   "source": [
    "Don't forget, you can use the `for` and `in` keywords to loop through a list"
   ]
  },
  {
   "cell_type": "code",
   "execution_count": null,
   "metadata": {
    "collapsed": false
   },
   "outputs": [],
   "source": [
    "for item in sushi_order:\n",
    "    print \"I'd like to order the {0}.\".format(item)\n",
    "print \"And hold the wasabi\""
   ]
  },
  {
   "cell_type": "markdown",
   "metadata": {},
   "source": [
    "### TRY IT\n",
    "create an variable called lots_of_sushi that repeats the inexpensive array two times"
   ]
  },
  {
   "cell_type": "code",
   "execution_count": null,
   "metadata": {
    "collapsed": true
   },
   "outputs": [],
   "source": []
  },
  {
   "cell_type": "markdown",
   "metadata": {},
   "source": [
    "## Adding and deleting elements \n",
    "\n",
    "To add an element to a list, you have a few of options\n",
    "\n",
    "1. the append method adds an element or elements to the end of a list, if you pass it a list, the next element with be a list (making a list of lists)\n",
    "\n",
    "2. the extend method takes a list of elements and adds them all to the end, not creating a list of lists\n",
    "\n",
    "3. use the `+` operator like you saw before"
   ]
  },
  {
   "cell_type": "code",
   "execution_count": null,
   "metadata": {
    "collapsed": false
   },
   "outputs": [],
   "source": [
    "my_sushis = ['maguro', 'rock n roll']\n",
    "my_sushis.append('avacado roll')\n",
    "print my_sushis\n",
    "my_sushis.append(['hamachi', 'california roll'])\n",
    "print my_sushis"
   ]
  },
  {
   "cell_type": "code",
   "execution_count": null,
   "metadata": {
    "collapsed": false
   },
   "outputs": [],
   "source": [
    "my_sushis = ['maguro', 'rock n roll']\n",
    "my_sushis.extend(['hamachi', 'california roll'])\n",
    "print my_sushis"
   ]
  },
  {
   "cell_type": "markdown",
   "metadata": {},
   "source": [
    "You also have several options for removing elements\n",
    "\n",
    "1. the pop method takes the index of the element to remove and returns the value of the element\n",
    "\n",
    "2. the remove method takes the value of the element to remove\n",
    "\n",
    "3. the del operator deletes the element or slice of the list that you give it\n",
    "    \n",
    "    del l[1:]"
   ]
  },
  {
   "cell_type": "code",
   "execution_count": null,
   "metadata": {
    "collapsed": false
   },
   "outputs": [],
   "source": [
    "print my_sushis\n",
    "last_sushi = my_sushis.pop(-1)\n",
    "print last_sushi"
   ]
  },
  {
   "cell_type": "code",
   "execution_count": null,
   "metadata": {
    "collapsed": false
   },
   "outputs": [],
   "source": [
    "my_sushis.remove('maguro')\n",
    "print my_sushis"
   ]
  },
  {
   "cell_type": "code",
   "execution_count": null,
   "metadata": {
    "collapsed": false
   },
   "outputs": [],
   "source": [
    "del my_sushis[1:]\n",
    "print my_sushis"
   ]
  },
  {
   "cell_type": "markdown",
   "metadata": {},
   "source": [
    "### TRY IT\n",
    "Add 'rock n roll' to sushi_order and delete the first element of sushi_order"
   ]
  },
  {
   "cell_type": "code",
   "execution_count": null,
   "metadata": {
    "collapsed": true
   },
   "outputs": [],
   "source": []
  },
  {
   "cell_type": "markdown",
   "metadata": {},
   "source": [
    "## List Functions\n",
    "\n",
    "`max` will return maximum value of list\n",
    "\n",
    "`min` returns minimum value of list\n",
    "\n",
    "`sum` returns the sum of the values in a list\n",
    "\n",
    "`len` returns the number of elements in a list # Just a reminder"
   ]
  },
  {
   "cell_type": "code",
   "execution_count": null,
   "metadata": {
    "collapsed": false
   },
   "outputs": [],
   "source": [
    "numbers = [1, 1, 2, 3, 5, 8]\n",
    "\n",
    "print max(numbers)\n",
    "print min(numbers)\n",
    "print sum(numbers)\n",
    "print len(numbers)\n",
    "\n"
   ]
  },
  {
   "cell_type": "markdown",
   "metadata": {},
   "source": [
    "### TRY IT\n",
    "Find the average of numbers using list functions (and not a loop!) **HINT** Don't forget about integer vs float division"
   ]
  },
  {
   "cell_type": "code",
   "execution_count": null,
   "metadata": {
    "collapsed": true
   },
   "outputs": [],
   "source": []
  },
  {
   "cell_type": "markdown",
   "metadata": {},
   "source": [
    "## Aliasing\n",
    "\n",
    "If you assign a list to another variable, it will still refer to the same list. This can cause trouble if you change one list because the other will change too."
   ]
  },
  {
   "cell_type": "code",
   "execution_count": 17,
   "metadata": {
    "collapsed": false
   },
   "outputs": [
    {
     "name": "stdout",
     "output_type": "stream",
     "text": [
      "['unagi roll', 'shrimp tempura roll', 'hamachi']\n",
      "['unagi roll', 'shrimp tempura roll', 'hamachi']\n"
     ]
    }
   ],
   "source": [
    "cooked_rolls = ['unagi roll', 'shrimp tempura roll']\n",
    "my_order = cooked_rolls\n",
    "my_order.append('hamachi')\n",
    "print my_order\n",
    "print cooked_rolls\n"
   ]
  },
  {
   "cell_type": "markdown",
   "metadata": {},
   "source": [
    "To check this, you can use the `is` operator to see if both variable refer to the same object"
   ]
  },
  {
   "cell_type": "code",
   "execution_count": null,
   "metadata": {
    "collapsed": false
   },
   "outputs": [],
   "source": [
    "print my_order is cooked_rolls"
   ]
  },
  {
   "cell_type": "markdown",
   "metadata": {},
   "source": [
    "To fix this, you can make a copy of the list using the list function\n",
    "\n",
    "`list` takes a sequence and turns it into a list"
   ]
  },
  {
   "cell_type": "code",
   "execution_count": null,
   "metadata": {
    "collapsed": false
   },
   "outputs": [],
   "source": [
    "cooked_rolls = ['unagi roll', 'shrimp tempura roll']\n",
    "my_order = list(cooked_rolls)\n",
    "my_order.append('hamachi')\n",
    "print my_order\n",
    "print cooked_rolls"
   ]
  },
  {
   "cell_type": "markdown",
   "metadata": {},
   "source": [
    "## List Comprehension\n",
    "  (http://www.pythonforbeginners.com/basics/list-comprehensions-in-python)\n",
    "  (https://docs.python.org/2/tutorial/datastructures.html)\n",
    " List comprehension is a condensed way to create lists using one line of code.\n",
    "\n",
    "what we are used to:\n",
    "\n",
    "new_list = []\n",
    "for i in old_list:\n",
    "    if filter(i):\n",
    "        new_list.append(expressions(i))\n",
    "        \n",
    "list comprehension:\n",
    "new_list = [expression(i) for i in old_list if filter(i)]\n",
    "\n"
   ]
  },
  {
   "cell_type": "code",
   "execution_count": 20,
   "metadata": {
    "collapsed": false
   },
   "outputs": [
    {
     "name": "stdout",
     "output_type": "stream",
     "text": [
      "[0, 1, 4, 9, 16, 25, 36, 49, 64, 81]\n",
      "[0, 1, 4, 9, 16, 25, 36, 49, 64, 81]\n"
     ]
    }
   ],
   "source": [
    "squares = []\n",
    "for x in range(10):\n",
    "    squares.append(x**2)\n",
    "\n",
    "print squares\n",
    "\n",
    "squares = [x**2 for x in range(10)]\n",
    "print squares"
   ]
  },
  {
   "cell_type": "markdown",
   "metadata": {},
   "source": [
    "## Tuples\n",
    "\n",
    "Tuples are very similar to lists. The major difference is that tuples are immutable meaning that you can add, remove, or assign new values to a tuple.\n",
    "\n",
    "The creator of a tuple is the comma `,` but by convention people usually surrond tuples with parenthesis."
   ]
  },
  {
   "cell_type": "code",
   "execution_count": null,
   "metadata": {
    "collapsed": true
   },
   "outputs": [],
   "source": []
  },
  {
   "cell_type": "code",
   "execution_count": 21,
   "metadata": {
    "collapsed": false,
    "scrolled": true
   },
   "outputs": [
    {
     "name": "stdout",
     "output_type": "stream",
     "text": [
      "<type 'tuple'>\n"
     ]
    }
   ],
   "source": [
    "noodles = ('soba', 'udon', 'ramen', 'lo mein', 'somen', 'rice noodle')\n",
    "print type(noodles)"
   ]
  },
  {
   "cell_type": "markdown",
   "metadata": {},
   "source": [
    "You can create a tuple from any sequence using the `tuple` function"
   ]
  },
  {
   "cell_type": "code",
   "execution_count": 22,
   "metadata": {
    "collapsed": false
   },
   "outputs": [
    {
     "name": "stdout",
     "output_type": "stream",
     "text": [
      "('unagi roll', 'shrimp tempura roll', 'hamachi')\n",
      "('m', 'a', 'g', 'u', 'r', 'o')\n"
     ]
    }
   ],
   "source": [
    "sushi_tuple = tuple(my_order)\n",
    "print sushi_tuple\n",
    "# Remember strings are sequences\n",
    "maguro = tuple('maguro')\n",
    "print maguro"
   ]
  },
  {
   "cell_type": "markdown",
   "metadata": {},
   "source": [
    "To create a single element tuple, you need to add a comma to the end of that element (it looks kinda weird)"
   ]
  },
  {
   "cell_type": "code",
   "execution_count": null,
   "metadata": {
    "collapsed": false
   },
   "outputs": [],
   "source": [
    "single_element_tuple = (1,)\n",
    "print single_element_tuple\n",
    "print type(single_element_tuple)"
   ]
  },
  {
   "cell_type": "markdown",
   "metadata": {},
   "source": [
    "You can use the indexing and slicing you learned for lists the same with tuples.\n",
    "\n",
    "But, because tuples are immutable, you cannot use the append, pop, del, extend, or remove methods or even assign new values to indexes"
   ]
  },
  {
   "cell_type": "code",
   "execution_count": null,
   "metadata": {
    "collapsed": false
   },
   "outputs": [],
   "source": [
    "print noodles[0]\n",
    "print noodles[4:]"
   ]
  },
  {
   "cell_type": "code",
   "execution_count": null,
   "metadata": {
    "collapsed": false
   },
   "outputs": [],
   "source": [
    "# This should throw an error\n",
    "noodles[0] = 'spaghetti'"
   ]
  },
  {
   "cell_type": "markdown",
   "metadata": {},
   "source": [
    "To change the values in a tuple, you need to create a new tuple (there is nothing stopping you from assigning it to the same variable, though"
   ]
  },
  {
   "cell_type": "code",
   "execution_count": null,
   "metadata": {
    "collapsed": false
   },
   "outputs": [],
   "source": [
    "print sushi_tuple\n",
    "sushi_tuple = sushi_tuple[1:] + ('california roll',)\n",
    "print sushi_tuple"
   ]
  },
  {
   "cell_type": "markdown",
   "metadata": {},
   "source": [
    "You can loop through tuples the same way you  loop through lists, using `for` `in`"
   ]
  },
  {
   "cell_type": "code",
   "execution_count": null,
   "metadata": {
    "collapsed": false
   },
   "outputs": [],
   "source": [
    "for noodle in noodles:\n",
    "    print \"Yummy, yummy {0}\".format(noodle)"
   ]
  },
  {
   "cell_type": "markdown",
   "metadata": {},
   "source": [
    "### TRY IT\n",
    "Create a tuple containing 'soy sauce' 'ginger' and 'wasabi' and save it in a variable called accompaniments"
   ]
  },
  {
   "cell_type": "code",
   "execution_count": null,
   "metadata": {
    "collapsed": true
   },
   "outputs": [],
   "source": []
  },
  {
   "cell_type": "markdown",
   "metadata": {},
   "source": [
    "## Zip\n",
    "\n",
    "the zip function takes any number of lists of the same length and returns a list of tuples where the tuples will contain the i-th element from each of the lists.\n",
    "\n",
    "This is really useful when combining lists that are related (especially for looping)"
   ]
  },
  {
   "cell_type": "code",
   "execution_count": 1,
   "metadata": {
    "collapsed": false
   },
   "outputs": [
    {
     "name": "stdout",
     "output_type": "stream",
     "text": [
      "[(1, 4), (2, 5), (3, 6)]\n"
     ]
    }
   ],
   "source": [
    "print zip([1,2,3], [4,5,6])"
   ]
  },
  {
   "cell_type": "code",
   "execution_count": 2,
   "metadata": {
    "collapsed": false
   },
   "outputs": [
    {
     "name": "stdout",
     "output_type": "stream",
     "text": [
      "The salmon costs $5.5\n",
      "The tuna costs $6.75\n",
      "The sea urchin costs $8\n"
     ]
    }
   ],
   "source": [
    "sushi = ['salmon', 'tuna', 'sea urchin']\n",
    "prices = [5.5, 6.75, 8]\n",
    "\n",
    "sushi_and_prices = zip(sushi, prices)\n",
    "\n",
    "for sushi, price in sushi_and_prices:\n",
    "    print \"The {0} costs ${1}\".format(sushi, price)"
   ]
  },
  {
   "cell_type": "markdown",
   "metadata": {},
   "source": [
    "## Enumerate\n",
    "\n",
    "While the zip function iterates over two lists, the built in function enumerate loops through indices and elements of a list.  It returns a list of tuples containing the index and value of that element.\n",
    "The default counter is 0 but could start at any designated number.\n",
    "\n",
    "for index in enumerate(list, start value)\n"
   ]
  },
  {
   "cell_type": "code",
   "execution_count": 14,
   "metadata": {
    "collapsed": false
   },
   "outputs": [
    {
     "name": "stdout",
     "output_type": "stream",
     "text": [
      "(0, 'salmon')\n",
      "(1, 'tuna')\n",
      "(2, 'sea urchin')\n",
      "\n",
      "(2, 'california')\n",
      "(3, 'salmon')\n",
      "(4, 'eel')\n"
     ]
    }
   ],
   "source": [
    "sushi = ['salmon', 'tuna', 'sea urchin']\n",
    "for item in enumerate(sushi):\n",
    "    print item\n",
    "print\n",
    "rolls = ['california', 'salmon', 'eel']\n",
    "for item in enumerate(rolls,2):\n",
    "    print item"
   ]
  },
  {
   "cell_type": "markdown",
   "metadata": {},
   "source": [
    "# Project: Party Budget\n",
    "\n",
    "You are tasked with writing budgetting software, but at this point, things are a mess. You have two files. `budget_prices.txt` has a list of costs for each item separated by new lines (\\n). `budget_items.txt` has a list of the items that were bought. Luckily they are both in order. You need to write a program that will take the files and a value for the overall budget and print out the total spent and how close they are to reaching the budget. In step 2 you will create a new file where the items and prices are in the same document and there is a sum printed out at the end.\n",
    "\n",
    "\n",
    "## Step 1\n",
    "1. Create a function called file_to_float_list that takes in a file and returns a list containing a float for each line **Hint** Make sure to remove the newlines when casting as floats.\n",
    "2. Store the budget of 2000.00 in a variable called budget.\n",
    "3. Run file_to_float_list on budget_prices.txt and save the result in a variable called prices.\n",
    "4. Calculate the sum of the prices array and store in a variable called spent.\n",
    "5. Calculate the percentage of budget spent and store in a variable called percent_spent\n",
    "6. Print out the results:\n",
    "\n",
    "    Budget: 2000.00 Spent: (amt spent) Percentage Spent: (percent spent)\n",
    "\n",
    "7. ** Bonus ** Print out a progress bar for the budget. Print out = for every 10% spent and - for every 10% unspent.  =====>-----\n",
    "\n",
    "## Step 2\n",
    "1. Create a function called file_to_string_list that takes in a file and returns a list containing a string for each line with newlines removed.\n",
    "2. Run file_to_string_list on budget_items.txt and save the result in a variable called stuff_bought.\n",
    "3. Zip stuff_bought and prices together and store in a varible called  items_and_prices\n",
    "4. Loop through items and prices and print out the item, then a tab character '\\t' and then the price (use string formatting)\n",
    "5. Print another line 'Sum\\t(amount spent)'\n",
    "6. Print a final line 'Budget\\t(budget)'\n",
    "\n",
    "7. **Bonus** Print everything you printed for step 2 into a new file. (Then try to open the file in excel.)"
   ]
  },
  {
   "cell_type": "code",
   "execution_count": null,
   "metadata": {
    "collapsed": true
   },
   "outputs": [],
   "source": []
  }
 ],
 "metadata": {
  "kernelspec": {
   "display_name": "Python 2",
   "language": "python",
   "name": "python2"
  },
  "language_info": {
   "codemirror_mode": {
    "name": "ipython",
    "version": 2
   },
   "file_extension": ".py",
   "mimetype": "text/x-python",
   "name": "python",
   "nbconvert_exporter": "python",
   "pygments_lexer": "ipython2",
   "version": "2.7.11"
  }
 },
 "nbformat": 4,
 "nbformat_minor": 0
}
