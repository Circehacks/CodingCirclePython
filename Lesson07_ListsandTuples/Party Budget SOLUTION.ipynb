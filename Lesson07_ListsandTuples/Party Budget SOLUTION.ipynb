{
 "cells": [
  {
   "cell_type": "code",
   "execution_count": 6,
   "metadata": {
    "collapsed": false
   },
   "outputs": [
    {
     "name": "stdout",
     "output_type": "stream",
     "text": [
      "Budget: 2000.0 Spent: 2023.33 Percentage Spent: 101.1665%\n"
     ]
    }
   ],
   "source": [
    "# Part 1\n",
    "\n",
    "def file_to_float_list(file_name):\n",
    "    nums = []\n",
    "    with open(file_name) as fh:\n",
    "        for line in fh:\n",
    "            num = float(line.rstrip())\n",
    "            nums.append(num)\n",
    "    return nums\n",
    "\n",
    "budget = 2000.00\n",
    "prices = file_to_float_list('budget_prices.txt')\n",
    "spent = sum(prices)\n",
    "percent_spent = (spent/float(budget)) * 100\n",
    "print \"Budget: {} Spent: {} Percentage Spent: {}%\".format(budget, spent, percent_spent)\n",
    "    "
   ]
  },
  {
   "cell_type": "code",
   "execution_count": 7,
   "metadata": {
    "collapsed": false
   },
   "outputs": [
    {
     "name": "stdout",
     "output_type": "stream",
     "text": [
      "['moon bounce', 'cotton candy maker', 'magician', 'party favors', '16 pizzas', 'plates']\n"
     ]
    }
   ],
   "source": [
    "# Part 2\n",
    "def file_to_string_list(file_name):\n",
    "    lines = []\n",
    "    with open(file_name) as fh:\n",
    "        for line in fh:\n",
    "            lines.append(line.rstrip())\n",
    "    return lines\n",
    "\n",
    "stuff_bought = file_to_string_list('budget_items.txt')\n",
    "items_and_prices = zip(stuff_bought, prices)\n"
   ]
  },
  {
   "cell_type": "code",
   "execution_count": null,
   "metadata": {
    "collapsed": true
   },
   "outputs": [],
   "source": []
  }
 ],
 "metadata": {
  "kernelspec": {
   "display_name": "Python 2",
   "language": "python",
   "name": "python2"
  },
  "language_info": {
   "codemirror_mode": {
    "name": "ipython",
    "version": 2
   },
   "file_extension": ".py",
   "mimetype": "text/x-python",
   "name": "python",
   "nbconvert_exporter": "python",
   "pygments_lexer": "ipython2",
   "version": "2.7.11"
  }
 },
 "nbformat": 4,
 "nbformat_minor": 0
}
