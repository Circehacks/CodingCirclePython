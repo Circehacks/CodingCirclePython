{
 "cells": [
  {
   "cell_type": "markdown",
   "metadata": {},
   "source": [
    "# Files\n",
    "\n",
    "## Opening Files\n",
    "\n",
    "To read a file, you must first open a file. This returns a file handle which you can used to then get the contents of a file. If the file doesn't exist this will throw an error.\n",
    "\n",
    "    file_handle = open('filename.txt')\n",
    "    \n",
    "\n",
    "Once you are done with a file, you need to close it. Bad things can happen if you don't close your files, particularly  on locking filesystems.\n",
    "\n",
    "    file_handle.close()\n"
   ]
  },
  {
   "cell_type": "code",
   "execution_count": 1,
   "metadata": {
    "collapsed": false
   },
   "outputs": [
    {
     "data": {
      "text/plain": [
       "('theyellowwallpaper.txt', <http.client.HTTPMessage at 0x10939a208>)"
      ]
     },
     "execution_count": 1,
     "metadata": {},
     "output_type": "execute_result"
    }
   ],
   "source": [
    "# Run these to get some of the files we will be using today. \n",
    "# These are the salaries of public workers in California from the website transparentcalifornia\n",
    "# The last line is downloading a short story for the project\n",
    "\n",
    "import urllib.request, urllib.parse, urllib.error\n",
    "urllib.request.urlretrieve(\"http://transparentcalifornia.com/export/san-francisco-2014.csv\", \"san-francisco-2014.csv\")\n",
    "urllib.request.urlretrieve(\"http://transparentcalifornia.com/export/san-francisco-2013.csv\", \"san-francisco-2013.csv\")\n",
    "urllib.request.urlretrieve(\"http://www.gutenberg.org/cache/epub/1952/pg1952.txt\", \"theyellowwallpaper.txt\")"
   ]
  },
  {
   "cell_type": "code",
   "execution_count": 2,
   "metadata": {
    "collapsed": false
   },
   "outputs": [
    {
     "name": "stdout",
     "output_type": "stream",
     "text": [
      "<_io.TextIOWrapper name='san-francisco-2014.csv' mode='r' encoding='UTF-8'>\n"
     ]
    }
   ],
   "source": [
    "# Opening a file\n",
    "fh = open('san-francisco-2014.csv')\n",
    "print(fh)\n",
    "fh.close()\n"
   ]
  },
  {
   "cell_type": "code",
   "execution_count": 3,
   "metadata": {
    "collapsed": false
   },
   "outputs": [
    {
     "ename": "FileNotFoundError",
     "evalue": "[Errno 2] No such file or directory: 'i_dont_exist.txt'",
     "output_type": "error",
     "traceback": [
      "\u001b[0;31m---------------------------------------------------------------------------\u001b[0m",
      "\u001b[0;31mFileNotFoundError\u001b[0m                         Traceback (most recent call last)",
      "\u001b[0;32m<ipython-input-3-0a98d378d6cd>\u001b[0m in \u001b[0;36m<module>\u001b[0;34m()\u001b[0m\n\u001b[1;32m      1\u001b[0m \u001b[0;31m# Opening a non-existent file\u001b[0m\u001b[0;34m\u001b[0m\u001b[0;34m\u001b[0m\u001b[0m\n\u001b[0;32m----> 2\u001b[0;31m \u001b[0mfh\u001b[0m \u001b[0;34m=\u001b[0m \u001b[0mopen\u001b[0m\u001b[0;34m(\u001b[0m\u001b[0;34m'i_dont_exist.txt'\u001b[0m\u001b[0;34m)\u001b[0m\u001b[0;34m\u001b[0m\u001b[0m\n\u001b[0m\u001b[1;32m      3\u001b[0m \u001b[0mprint\u001b[0m\u001b[0;34m(\u001b[0m\u001b[0mfh\u001b[0m\u001b[0;34m)\u001b[0m\u001b[0;34m\u001b[0m\u001b[0m\n\u001b[1;32m      4\u001b[0m \u001b[0mfh\u001b[0m\u001b[0;34m.\u001b[0m\u001b[0mclose\u001b[0m\u001b[0;34m(\u001b[0m\u001b[0;34m)\u001b[0m\u001b[0;34m\u001b[0m\u001b[0m\n",
      "\u001b[0;31mFileNotFoundError\u001b[0m: [Errno 2] No such file or directory: 'i_dont_exist.txt'"
     ]
    }
   ],
   "source": [
    "# Opening a non-existent file\n",
    "fh = open('i_dont_exist.txt')\n",
    "print(fh)\n",
    "fh.close()"
   ]
  },
  {
   "cell_type": "markdown",
   "metadata": {},
   "source": [
    "### TRY IT\n",
    "Open and close the san-francisco-2013.csv file"
   ]
  },
  {
   "cell_type": "code",
   "execution_count": 4,
   "metadata": {
    "collapsed": false
   },
   "outputs": [],
   "source": [
    "fh = open(\"san-francisco-2013.csv\")\n",
    "fh.close()"
   ]
  },
  {
   "cell_type": "markdown",
   "metadata": {},
   "source": [
    "## Text files and lines\n",
    "\n",
    "A text file is just a sequence of lines, in fact if you read it in all at once it is returns a list of strings.\n",
    "\n",
    "Each line is separated by the new line character \"\\n\". This is the special character that is inserted into text files when you hit enter (or you can deliberately put it into strings by using the special \\n syntax)."
   ]
  },
  {
   "cell_type": "code",
   "execution_count": 5,
   "metadata": {
    "collapsed": false
   },
   "outputs": [
    {
     "name": "stdout",
     "output_type": "stream",
     "text": [
      "Golden\n",
      "Gate\n",
      "Bridge\n"
     ]
    }
   ],
   "source": [
    "print(\"Golden\\nGate\\nBridge\")"
   ]
  },
  {
   "cell_type": "markdown",
   "metadata": {},
   "source": [
    "### TRY IT\n",
    "Print your name on two lines using only one print statement "
   ]
  },
  {
   "cell_type": "code",
   "execution_count": 6,
   "metadata": {
    "collapsed": false
   },
   "outputs": [
    {
     "name": "stdout",
     "output_type": "stream",
     "text": [
      "Charlotte\n",
      "Weaver\n"
     ]
    }
   ],
   "source": [
    "print(\"Charlotte\\nWeaver\")"
   ]
  },
  {
   "cell_type": "markdown",
   "metadata": {},
   "source": [
    "## Reading from files\n",
    "\n",
    "There are two common ways to read through the file, the first (and usually better way) is to loop through the lines in the file. \n",
    "\n",
    "    for line in file_handle:\n",
    "        print line\n",
    "\n",
    "The second is to read all the lines at once and store as a string or list. \n",
    "\n",
    "    lines = file_handle.read() # stores as a single string\n",
    "    lines = file_handle.readlines() # stores as a list of strings (separates on new lines)\n",
    "\n",
    "Unless you are going to process the lines in a file several times, use the first method. It uses way less memory which will be useful if you ever have big files"
   ]
  },
  {
   "cell_type": "code",
   "execution_count": 34,
   "metadata": {
    "collapsed": false
   },
   "outputs": [
    {
     "name": "stdout",
     "output_type": "stream",
     "text": [
      "Alcatraz\n",
      "Golden Gate Bridge\n",
      "Golden Gate Park\n",
      "The Exploratorium\n",
      "Pier 39\n"
     ]
    }
   ],
   "source": [
    "fh = open('thingstodo.txt')\n",
    "for line in fh:\n",
    "    print(line.rstrip())\n",
    "fh.close()\n"
   ]
  },
  {
   "cell_type": "code",
   "execution_count": 10,
   "metadata": {
    "collapsed": false
   },
   "outputs": [
    {
     "name": "stdout",
     "output_type": "stream",
     "text": [
      "Alcatraz\n",
      "Golden Gate Bridge\n",
      "Golden Gate Park\n",
      "The Exploratorium\n",
      "Pier 39\n",
      "\n",
      "<class 'str'>\n",
      "['Alcatraz\\n', 'Golden Gate Bridge\\n', 'Golden Gate Park\\n', 'The Exploratorium\\n', 'Pier 39\\n']\n",
      "<class 'list'>\n"
     ]
    }
   ],
   "source": [
    "fh = open('thingstodo.txt')\n",
    "contents = fh.read()\n",
    "fh.close()\n",
    "\n",
    "print(contents)\n",
    "print(type(contents))\n",
    "\n",
    "fh = open('thingstodo.txt')\n",
    "lines = fh.readlines()\n",
    "fh.close()\n",
    "\n",
    "print(lines)\n",
    "print(type(lines))"
   ]
  },
  {
   "cell_type": "markdown",
   "metadata": {},
   "source": [
    "### TRY IT\n",
    "Open 'san-francisco-2013.csv' and print out the first line. You can use either method. If you are using the loop method, you can 'break' after printing the first line."
   ]
  },
  {
   "cell_type": "code",
   "execution_count": 13,
   "metadata": {
    "collapsed": false
   },
   "outputs": [
    {
     "name": "stdout",
     "output_type": "stream",
     "text": [
      "employee_name,job_title,base_pay,overtime_pay,other_pay,total_benefits,total_pay,total_pay_benefits,year,notes,jurisdiction_name\n",
      "\n"
     ]
    }
   ],
   "source": [
    "fh = open('san-francisco-2013.csv')\n",
    "\n",
    "for line in fh:\n",
    "    print(line)\n",
    "    break\n",
    "    \n",
    "fh.close()"
   ]
  },
  {
   "cell_type": "code",
   "execution_count": 17,
   "metadata": {
    "collapsed": false
   },
   "outputs": [
    {
     "name": "stdout",
     "output_type": "stream",
     "text": [
      "employee_name,job_title,base_pay,overtime_pay,other_pay,total_benefits,total_pay,total_pay_benefits,year,notes,jurisdiction_name\n",
      "\n"
     ]
    }
   ],
   "source": [
    "fh = open('san-francisco-2013.csv')\n",
    "\n",
    "\n",
    "lines = fh.readlines()\n",
    "print(lines[0])\n",
    "# for line in fh:\n",
    "#     print(line)\n",
    "#     break\n",
    "    \n",
    "fh.close()"
   ]
  },
  {
   "cell_type": "code",
   "execution_count": 18,
   "metadata": {
    "collapsed": false
   },
   "outputs": [
    {
     "name": "stdout",
     "output_type": "stream",
     "text": [
      "employee_name,job_title,base_pay,overtime_pay,other_pay,total_benefits,total_pay,total_pay_benefits,year,notes,jurisdiction_name\n"
     ]
    }
   ],
   "source": [
    "fh = open('san-francisco-2013.csv')\n",
    "\n",
    "\n",
    "lines = fh.read()\n",
    "end_of_first = lines.find(\"\\n\")\n",
    "print(lines[:end_of_first])\n",
    "# for line in fh:\n",
    "#     print(line)\n",
    "#     break\n",
    "    \n",
    "fh.close()"
   ]
  },
  {
   "cell_type": "code",
   "execution_count": 19,
   "metadata": {
    "collapsed": false
   },
   "outputs": [
    {
     "name": "stdout",
     "output_type": "stream",
     "text": [
      "﻿Project Gutenberg's The Yellow Wallpaper, by Charlotte Perkins Gilman\n",
      "\n"
     ]
    }
   ],
   "source": [
    "fh = open('theyellowwallpaper.txt')\n",
    "for line in fh:\n",
    "    print(line)\n",
    "    break\n",
    "fh.close()"
   ]
  },
  {
   "cell_type": "markdown",
   "metadata": {},
   "source": [
    "## Searching through a file\n",
    "\n",
    "When searching through a file, you can use string methods to discover and parse the contents.\n",
    "\n",
    "Let's look at a few examples"
   ]
  },
  {
   "cell_type": "code",
   "execution_count": 21,
   "metadata": {
    "collapsed": false
   },
   "outputs": [
    {
     "name": "stdout",
     "output_type": "stream",
     "text": [
      "Charlotte L Jaques,\"AprntcStatnry Eng,WtrTreatPlnt\",86679.08,8924.69,5713.36,34054.46,101317.13,135371.59,2014,,San Francisco,FT\n",
      "\n",
      "Charlotte R Kuo,Nurse Practitioner,83539.45,0.00,250.00,26455.08,83789.45,110244.53,2014,,San Francisco,PT\n",
      "\n",
      "Charlotte C Wu,Senior Management Assistant,74163.11,0.00,0.00,30828.83,74163.11,104991.94,2014,,San Francisco,FT\n",
      "\n",
      "Charlotte Coloyan Dela Cruz,Legal Secretary 1,66492.03,0.00,0.00,29062.63,66492.03,95554.66,2014,,San Francisco,FT\n",
      "\n",
      "Charlotte E Grimes-Brown,Health Worker 2,59388.65,3880.56,2482.62,27328.09,65751.83,93079.92,2014,,San Francisco,FT\n",
      "\n",
      "Charlotte B Coquia,Personnel Trainee,56456.54,0.00,1061.50,27700.77,57518.04,85218.81,2014,,San Francisco,FT\n",
      "\n",
      "Charlotte R Sanders,Librarian 1,49527.35,0.00,943.69,19430.78,50471.04,69901.82,2014,,San Francisco,PT\n",
      "\n",
      "Charlotte L Leung,HSA Sr Eligibility Worker,21401.54,0.00,14556.04,8669.72,35957.58,44627.30,2014,,San Francisco,PT\n",
      "\n",
      "Charlotte L Vance,Public Svc Aide-Public Works,5392.91,989.32,53.28,4078.86,6435.51,10514.37,2014,,San Francisco,PT\n",
      "\n",
      "Charlotte A Holper,Public Service Trainee,2625.93,0.00,2.58,26.28,2628.51,2654.79,2014,,San Francisco,PT\n",
      "\n"
     ]
    }
   ],
   "source": [
    "# Looking for a line that starts with something\n",
    "\n",
    "# I want to see salary data of women with my first name\n",
    "fh = open('san-francisco-2014.csv')\n",
    "for line in fh:\n",
    "    if line.startswith('Charlotte'):\n",
    "        print(line)\n",
    "fh.close()"
   ]
  },
  {
   "cell_type": "code",
   "execution_count": 22,
   "metadata": {
    "collapsed": false
   },
   "outputs": [
    {
     "name": "stdout",
     "output_type": "stream",
     "text": [
      "John L Martin,Dept Head V,311298.55,0.00,0.00,89772.32,311298.55,401070.87,2014,,San Francisco,FT\n",
      "\n",
      "Barbara A Garcia,Dept Head V,279839.22,0.00,2164.54,82884.27,282003.76,364888.03,2014,,San Francisco,FT\n",
      "\n",
      "Naomi M Kelly,Dept Head V,267914.01,0.00,0.00,80361.22,267914.01,348275.23,2014,,San Francisco,FT\n",
      "\n",
      "Trent E Rhorer,Dept Head V,267914.00,0.00,0.00,79799.88,267914.00,347713.88,2014,,San Francisco,FT\n",
      "\n",
      "Jay P Huish,Dept Head V,267914.00,0.00,0.00,79799.88,267914.00,347713.88,2014,,San Francisco,FT\n",
      "\n",
      "John S Rahaim,Dept Head IV,232489.33,0.00,0.00,72233.72,232489.33,304723.05,2014,,San Francisco,FT\n",
      "\n",
      "Luis Herrera,Dept Head IV,226832.02,0.00,0.00,71586.74,226832.02,298418.76,2014,,San Francisco,FT\n",
      "\n",
      "Mohammed C Nuru,Dept Head IV,219184.68,0.00,0.00,70095.24,219184.68,289279.92,2014,,San Francisco,FT\n",
      "\n",
      "Anne M Kronenberg,Dept Head IV,219212.28,0.00,0.00,69397.69,219212.28,288609.97,2014,,San Francisco,FT\n",
      "\n",
      "Tom C Hui,Dept Head III,202290.14,0.00,14958.35,68955.03,217248.49,286203.52,2014,,San Francisco,FT\n",
      "\n",
      "Philip A Ginsburg,Dept Head IV,219184.67,0.00,0.00,59225.09,219184.67,278409.76,2014,,San Francisco,FT\n",
      "\n",
      "Karen M Roye,Dept Head III,201294.51,0.00,0.00,65570.63,201294.51,266865.14,2014,,San Francisco,FT\n",
      "\n",
      "Catherine J Dodd,Dept Head III,195227.21,0.00,0.00,64274.88,195227.21,259502.09,2014,,San Francisco,FT\n",
      "\n",
      "Rebecca Katz,Dept Head II,133351.99,0.00,77843.50,45143.14,211195.49,256338.63,2014,,San Francisco,PT\n",
      "\n",
      "Colin B Bailey,Dept Head III,187571.00,0.00,0.00,64515.27,187571.00,252086.27,2014,,San Francisco,FT\n",
      "\n",
      "Jay J Xu,Dept Head III,187571.00,0.00,0.00,63200.90,187571.00,250771.90,2014,,San Francisco,FT\n",
      "\n",
      "Anne E Hinton,Dept Head III,187571.00,0.00,0.00,62639.56,187571.00,250210.56,2014,,San Francisco,FT\n",
      "\n",
      "Todd Rufo,Dept Head III,187546.19,0.00,0.00,62634.12,187546.19,250180.31,2014,,San Francisco,FT\n",
      "\n",
      "Angela C Calvillo,Dept Head III,187544.95,0.00,0.00,62633.86,187544.95,250178.81,2014,,San Francisco,FT\n",
      "\n",
      "Joyce M Hicks,Dept Head I,187210.93,0.00,0.00,62562.66,187210.93,249773.59,2014,,San Francisco,FT\n",
      "\n",
      "John Arntz,Dept Head II,185161.72,0.00,0.00,62115.63,185161.72,247277.35,2014,,San Francisco,FT\n",
      "\n",
      "Elizabeth Murray,Dept Head II,179041.55,0.00,0.00,60817.76,179041.55,239859.31,2014,,San Francisco,FT\n",
      "\n",
      "John T Noguchi,Dept Head II,176484.05,0.00,0.00,60832.58,176484.05,237316.63,2014,,San Francisco,FT\n",
      "\n",
      "Maria Su,Dept Head II,176470.18,0.00,0.00,60829.71,176470.18,237299.89,2014,,San Francisco,FT\n",
      "\n",
      "Theresa L Sparks,Dept Head II,170015.41,0.00,0.00,58342.45,170015.41,228357.86,2014,,San Francisco,FT\n",
      "\n",
      "Delene S Wolf,Dept Head I,157766.89,0.00,0.00,56834.97,157766.89,214601.86,2014,,San Francisco,FT\n",
      "\n",
      "Thomas E Decaigny Ii,Dept Head I,153432.44,0.00,0.00,56882.16,153432.44,210314.60,2014,,San Francisco,FT\n",
      "\n",
      "Cynthia G Goldstein,Dept Head I,148579.76,0.00,0.00,54872.74,148579.76,203452.50,2014,,San Francisco,FT\n",
      "\n",
      "John St. Croix,Dept Head I,148426.18,0.00,0.00,54278.51,148426.18,202704.69,2014,,San Francisco,FT\n",
      "\n",
      "Susannah G Robbins,Dept Head I,144514.52,0.00,0.00,54888.12,144514.52,199402.64,2014,,San Francisco,FT\n",
      "\n",
      "Emily Murase,Dept Head I,142364.06,0.00,0.00,53545.01,142364.06,195909.07,2014,,San Francisco,FT\n",
      "\n",
      "Laurel Kloomok,Dept Head I,142499.55,0.00,0.00,52985.69,142499.55,195485.24,2014,,San Francisco,FT\n",
      "\n",
      "Jocelyn M Kane,Dept Head I,133520.35,0.00,0.00,51668.07,133520.35,185188.42,2014,,San Francisco,FT\n",
      "\n",
      "Regina M Dick-Endrizzi,Dept Head I,132774.29,0.00,0.00,51496.71,132774.29,184271.00,2014,,San Francisco,FT\n",
      "\n",
      "Marc Y Touitou,Dept Head IV,137488.57,0.00,104.37,44969.73,137592.94,182562.67,2014,,San Francisco,PT\n",
      "\n",
      "Deborah O Raphael,Dept Head II,94612.51,0.00,0.00,34632.55,94612.51,129245.06,2014,,San Francisco,PT\n",
      "\n",
      "Melanie L Nutter,Dept Head II,30870.89,0.00,23270.47,10937.59,54141.36,65078.95,2014,,San Francisco,PT\n",
      "\n"
     ]
    }
   ],
   "source": [
    "# Looking for lines that contain a specific string\n",
    "fh = open('san-francisco-2014.csv')\n",
    "# Looking for all the department heads\n",
    "for line in fh:\n",
    "    # Remember if find doesn't find the string, it returns -1\n",
    "    if line.find('Dept Head') != -1:\n",
    "        print(line)\n",
    "fh.close()"
   ]
  },
  {
   "cell_type": "code",
   "execution_count": 23,
   "metadata": {
    "collapsed": false
   },
   "outputs": [
    {
     "name": "stdout",
     "output_type": "stream",
     "text": [
      "There are 518 trainees\n"
     ]
    }
   ],
   "source": [
    "# Counting lines that match criteria\n",
    "fh = open('san-francisco-2014.csv')\n",
    "num_trainees = 0\n",
    "for line in fh:\n",
    "    # Remember if find doesn't find the string, it returns -1\n",
    "    if line.find('Trainee') != -1:\n",
    "        num_trainees += 1\n",
    "fh.close()\n",
    "print(\"There are {0} trainees\".format(num_trainees))"
   ]
  },
  {
   "cell_type": "code",
   "execution_count": 26,
   "metadata": {
    "collapsed": false
   },
   "outputs": [
    {
     "name": "stdout",
     "output_type": "stream",
     "text": [
      "['Emily Lee', 'Senior Physician Specialist', '178950.03', '0.00', '0.00', '52859.83', '178950.03', '231809.86', '2014', '', 'San Francisco', 'FT\\n']\n",
      "Senior Physician Specialist 178950.03 FT\n",
      "\n",
      "['Emily Goldman', 'Attorney (Civil/Criminal)', '172150.70', '0.00', '1312.50', '50927.47', '173463.20', '224390.67', '2014', '', 'San Francisco', 'FT\\n']\n",
      "Attorney (Civil/Criminal) 172150.70 FT\n",
      "\n",
      "['Emily Prescott', '\"Manager', 'Employee Relations Div\"', '152325.27', '0.00', '0.00', '56584.45', '152325.27', '208909.72', '2014', '', 'San Francisco', 'FT\\n']\n",
      "\"Manager Employee Relations Div\" FT\n",
      "\n",
      "['Emily Murase', 'Dept Head I', '142364.06', '0.00', '0.00', '53545.01', '142364.06', '195909.07', '2014', '', 'San Francisco', 'FT\\n']\n",
      "Dept Head I 142364.06 FT\n",
      "\n",
      "['Emily M Morrison', 'Manager III', '132690.02', '0.00', '0.00', '50917.46', '132690.02', '183607.48', '2014', '', 'San Francisco', 'FT\\n']\n",
      "Manager III 132690.02 FT\n",
      "\n",
      "['Emily L Dahm', 'Attorney (Civil/Criminal)', '125830.00', '0.00', '5041.50', '41764.64', '130871.50', '172636.14', '2014', '', 'San Francisco', 'FT\\n']\n",
      "Attorney (Civil/Criminal) 125830.00 FT\n",
      "\n",
      "['Emily R Luck', 'Diagnostic Imaging Tech IV', '113566.58', '6618.71', '10067.18', '39672.40', '130252.47', '169924.87', '2014', '', 'San Francisco', 'FT\\n']\n",
      "Diagnostic Imaging Tech IV 113566.58 FT\n",
      "\n",
      "['Emily B Gerber', 'Manager I', '112649.00', '0.00', '0.00', '45432.00', '112649.00', '158081.00', '2014', '', 'San Francisco', 'FT\\n']\n",
      "Manager I 112649.00 FT\n",
      "\n",
      "[\"Emily S O'Rourke\", 'Firefighter', '96940.13', '6000.31', '6809.44', '38479.04', '109749.88', '148228.92', '2014', '', 'San Francisco', 'FT\\n']\n",
      "Firefighter 96940.13 FT\n",
      "\n",
      "['Emily R Watters', 'Senior Physician Specialist', '101753.60', '0.00', '5087.68', '31519.53', '106841.28', '138360.81', '2014', '', 'San Francisco', 'PT\\n']\n",
      "Senior Physician Specialist 101753.60 PT\n",
      "\n",
      "['Emily K Anderson', 'EMT/Paramedic/Firefighter', '80594.00', '9794.44', '10526.38', '34697.35', '100914.82', '135612.17', '2014', '', 'San Francisco', 'FT\\n']\n",
      "EMT/Paramedic/Firefighter 80594.00 FT\n",
      "\n",
      "['Emily Yee', 'Senior Administrative Analyst', '98753.05', '0.00', '0.00', '35445.10', '98753.05', '134198.15', '2014', '', 'San Francisco', 'FT\\n']\n",
      "Senior Administrative Analyst 98753.05 FT\n",
      "\n",
      "['Emily R Lesk', 'Senior Administrative Analyst', '94229.51', '0.00', '0.00', '35399.77', '94229.51', '129629.28', '2014', '', 'San Francisco', 'FT\\n']\n",
      "Senior Administrative Analyst 94229.51 FT\n",
      "\n",
      "['Emily Ho', 'Medical Social Worker', '90185.02', '0.00', '1664.00', '33936.79', '91849.02', '125785.81', '2014', '', 'San Francisco', 'FT\\n']\n",
      "Medical Social Worker 90185.02 FT\n",
      "\n",
      "['Emily J Gerth', 'Senior Administrative Analyst', '89586.46', '0.00', '0.00', '34284.41', '89586.46', '123870.87', '2014', '', 'San Francisco', 'FT\\n']\n",
      "Senior Administrative Analyst 89586.46 FT\n",
      "\n",
      "['Emily B Williams', '\"Manager II', ' MTA\"', '92283.45', '0.00', '0.00', '28840.50', '92283.45', '121123.95', '2014', '', 'San Francisco', 'FT\\n']\n",
      "\"Manager II  MTA\" FT\n",
      "\n",
      "['Emily Lau Sing', 'Assoc Engineer', '86868.14', '0.00', '2387.67', '30869.19', '89255.81', '120125.00', '2014', '', 'San Francisco', 'PT\\n']\n",
      "Assoc Engineer 86868.14 PT\n",
      "\n",
      "['Emily Wang', 'Senior Administrative Analyst', '82825.42', '0.00', '0.00', '32801.48', '82825.42', '115626.90', '2014', '', 'San Francisco', 'FT\\n']\n",
      "Senior Administrative Analyst 82825.42 FT\n",
      "\n",
      "['Emily S Chang', 'Program Specialist', '82589.08', '0.00', '200.00', '31958.49', '82789.08', '114747.57', '2014', '', 'San Francisco', 'FT\\n']\n",
      "Program Specialist 82589.08 FT\n",
      "\n",
      "['Emily A Roberts', 'Estate Investigator', '82052.03', '0.00', '0.00', '31795.22', '82052.03', '113847.25', '2014', '', 'San Francisco', 'FT\\n']\n",
      "Estate Investigator 82052.03 FT\n",
      "\n",
      "['Emily Chea', 'Employment & Training Spec 3', '81005.01', '0.00', '0.00', '32376.58', '81005.01', '113381.59', '2014', '', 'San Francisco', 'FT\\n']\n",
      "Employment & Training Spec 3 81005.01 FT\n",
      "\n",
      "['Emily H Chau', 'Secretary 2', '65854.06', '9309.23', '0.00', '28255.50', '75163.29', '103418.79', '2014', '', 'San Francisco', 'FT\\n']\n",
      "Secretary 2 65854.06 FT\n",
      "\n",
      "['Emily G Espino', 'Payroll Clerk', '66995.00', '4182.45', '624.00', '28641.14', '71801.45', '100442.59', '2014', '', 'San Francisco', 'FT\\n']\n",
      "Payroll Clerk 66995.00 FT\n",
      "\n",
      "['Emily C Davis', 'Executive Secretary 1', '67037.39', '0.00', '0.00', '29094.78', '67037.39', '96132.17', '2014', '', 'San Francisco', 'FT\\n']\n",
      "Executive Secretary 1 67037.39 FT\n",
      "\n",
      "['Emily P Wong', 'Health Worker 3', '62780.22', '1405.80', '1284.11', '28522.94', '65470.13', '93993.07', '2014', '', 'San Francisco', 'FT\\n']\n",
      "Health Worker 3 62780.22 FT\n",
      "\n",
      "['Emily R Uphoff', 'Special Nurse', '77970.70', '1557.68', '12711.93', '922.40', '92240.31', '93162.71', '2014', '', 'San Francisco', 'PT\\n']\n",
      "Special Nurse 77970.70 PT\n",
      "\n",
      "['Emily L Schwartz', 'Fingerprint Technician 1', '60141.11', '5604.30', '0.00', '26996.43', '65745.41', '92741.84', '2014', '', 'San Francisco', 'FT\\n']\n",
      "Fingerprint Technician 1 60141.11 FT\n",
      "\n",
      "['Emily Hunter', 'HSA Sr Eligibility Worker', '62095.45', '952.18', '1861.77', '25348.38', '64909.40', '90257.78', '2014', '', 'San Francisco', 'PT\\n']\n",
      "HSA Sr Eligibility Worker 62095.45 PT\n",
      "\n",
      "['Emily Lee', 'IS Business Analyst-Senior', '71136.77', '0.00', '0.00', '17764.46', '71136.77', '88901.23', '2014', '', 'San Francisco', 'PT\\n']\n",
      "IS Business Analyst-Senior 71136.77 PT\n",
      "\n",
      "['Emily M Vasquez', 'Health Worker 3', '58880.61', '1241.90', '62.38', '27344.95', '60184.89', '87529.84', '2014', '', 'San Francisco', 'FT\\n']\n",
      "Health Worker 3 58880.61 FT\n",
      "\n",
      "['Emily S Chesley', 'Accountant II', '60320.29', '0.00', '0.00', '25362.82', '60320.29', '85683.11', '2014', '', 'San Francisco', 'PT\\n']\n",
      "Accountant II 60320.29 PT\n",
      "\n",
      "['Emily M Manuel', 'Nutritionist', '61297.53', '0.00', '0.00', '23599.04', '61297.53', '84896.57', '2014', '', 'San Francisco', 'PT\\n']\n",
      "Nutritionist 61297.53 PT\n",
      "\n",
      "['Emily M Volberding', 'Mayoral Staff IV', '46688.03', '0.00', '0.00', '34851.10', '46688.03', '81539.13', '2014', '', 'San Francisco', 'FT\\n']\n",
      "Mayoral Staff IV 46688.03 FT\n",
      "\n",
      "['Emily V Callorina', 'Senior Personnel Clerk', '52013.71', '0.00', '484.00', '27727.14', '52497.71', '80224.85', '2014', '', 'San Francisco', 'FT\\n']\n",
      "Senior Personnel Clerk 52013.71 FT\n",
      "\n",
      "['Emily A Palmer', 'Special Nurse', '65238.61', '465.22', '5282.11', '709.84', '70985.94', '71695.78', '2014', '', 'San Francisco', 'PT\\n']\n",
      "Special Nurse 65238.61 PT\n",
      "\n",
      "['Emily Hazel - Geran', 'Parking Control Officer', '44264.02', '0.00', '1171.86', '20213.34', '45435.88', '65649.22', '2014', '', 'San Francisco', 'PT\\n']\n",
      "Parking Control Officer 44264.02 PT\n",
      "\n",
      "['Emily F Shannon', 'Invstgtor Ofc Citizen Cmplnts', '50030.32', '0.00', '0.00', '12297.31', '50030.32', '62327.63', '2014', '', 'San Francisco', 'PT\\n']\n",
      "Invstgtor Ofc Citizen Cmplnts 50030.32 PT\n",
      "\n",
      "['Emily A Meneses', 'Psychiatric Social Worker', '42850.31', '0.00', '0.00', '9031.16', '42850.31', '51881.47', '2014', '', 'San Francisco', 'PT\\n']\n",
      "Psychiatric Social Worker 42850.31 PT\n",
      "\n",
      "['Emily K Taplin', 'Psychiatric Social Worker', '36304.18', '0.00', '0.00', '7103.11', '36304.18', '43407.29', '2014', '', 'San Francisco', 'PT\\n']\n",
      "Psychiatric Social Worker 36304.18 PT\n",
      "\n",
      "['Emily C Stout', 'Special Nurse', '37032.11', '1341.30', '2449.72', '408.23', '40823.13', '41231.36', '2014', '', 'San Francisco', 'PT\\n']\n",
      "Special Nurse 37032.11 PT\n",
      "\n",
      "['Emily E Read', 'Watershed Keeper', '28713.70', '0.00', '155.20', '12073.45', '28868.90', '40942.35', '2014', '', 'San Francisco', 'PT\\n']\n",
      "Watershed Keeper 28713.70 PT\n",
      "\n",
      "['Emily J Agosta', 'Senior Clerk', '19109.00', '0.00', '0.00', '10986.47', '19109.00', '30095.47', '2014', '', 'San Francisco', 'PT\\n']\n",
      "Senior Clerk 19109.00 PT\n",
      "\n",
      "['Emily Y Liang', 'Senior Account Clerk', '20276.42', '0.00', '0.00', '8387.11', '20276.42', '28663.53', '2014', '', 'San Francisco', 'PT\\n']\n",
      "Senior Account Clerk 20276.42 PT\n",
      "\n",
      "['Emily Cun', 'Food Service Worker', '17864.61', '0.00', '24.11', '178.88', '17888.72', '18067.60', '2014', '', 'San Francisco', 'PT\\n']\n",
      "Food Service Worker 17864.61 PT\n",
      "\n",
      "['Emily A Hanna', 'Licensed Vocational Nurse', '15790.50', '0.00', '1263.26', '170.52', '17053.76', '17224.28', '2014', '', 'San Francisco', 'PT\\n']\n",
      "Licensed Vocational Nurse 15790.50 PT\n",
      "\n",
      "['Emily C Alvarez', '\"StdntDsgnTrain1', ' Arch/Eng/Plng\"', '16419.46', '0.00', '0.00', '164.22', '16419.46', '16583.68', '2014', '', 'San Francisco', 'PT\\n']\n",
      "\"StdntDsgnTrain1  Arch/Eng/Plng\" PT\n",
      "\n",
      "['Emily J Alt', 'PS Aide to Prof', '13907.67', '0.00', '0.00', '139.10', '13907.67', '14046.77', '2014', '', 'San Francisco', 'PT\\n']\n",
      "PS Aide to Prof 13907.67 PT\n",
      "\n",
      "['Emily C Claymore', 'PS Aide Health Services', '9763.69', '0.00', '0.00', '97.64', '9763.69', '9861.33', '2014', '', 'San Francisco', 'PT\\n']\n",
      "PS Aide Health Services 9763.69 PT\n",
      "\n",
      "['Emily K Shaw', 'Social Worker', '6534.00', '0.00', '0.00', '3130.55', '6534.00', '9664.55', '2014', '', 'San Francisco', 'PT\\n']\n",
      "Social Worker 6534.00 PT\n",
      "\n",
      "['Emily A Smith', 'Public Svc Aide-Public Works', '8515.57', '0.00', '85.36', '86.00', '8600.93', '8686.93', '2014', '', 'San Francisco', 'PT\\n']\n",
      "Public Svc Aide-Public Works 8515.57 PT\n",
      "\n",
      "['Emily Yu', 'Public Service Trainee', '5431.02', '0.00', '0.00', '54.30', '5431.02', '5485.32', '2014', '', 'San Francisco', 'PT\\n']\n",
      "Public Service Trainee 5431.02 PT\n",
      "\n",
      "['Emily Lee', 'Physician Specialist', '4092.51', '0.00', '0.00', '914.80', '4092.51', '5007.31', '2014', '', 'San Francisco', 'PT\\n']\n",
      "Physician Specialist 4092.51 PT\n",
      "\n",
      "['Emily E Woo', 'Pool Lifeguard', '4758.23', '0.00', '103.63', '48.62', '4861.86', '4910.48', '2014', '', 'San Francisco', 'PT\\n']\n",
      "Pool Lifeguard 4758.23 PT\n",
      "\n",
      "['Emily K Riggs', 'Health Care Analyst', '0.00', '0.00', '0.00', '4645.56', '0.00', '4645.56', '2014', '', 'San Francisco', 'PT\\n']\n",
      "Health Care Analyst 0.00 PT\n",
      "\n",
      "['Emily E Niznik-Salvaterra', 'Public Service Aide-Admin', '4149.30', '0.00', '0.00', '350.66', '4149.30', '4499.96', '2014', '', 'San Francisco', 'PT\\n']\n",
      "Public Service Aide-Admin 4149.30 PT\n",
      "\n",
      "['Emily Gong', 'Camp Assistant', '1932.48', '0.00', '0.00', '19.32', '1932.48', '1951.80', '2014', '', 'San Francisco', 'PT\\n']\n",
      "Camp Assistant 1932.48 PT\n",
      "\n"
     ]
    }
   ],
   "source": [
    "# Splitting lines, this is great for excel like data (tsv, csv)\n",
    "# I want to see salary data of women with my name\n",
    "fh = open('san-francisco-2014.csv')\n",
    "for line in fh:\n",
    "    if line.startswith('Emily'):\n",
    "        cols = line.split(',')\n",
    "        print(cols)\n",
    "        # Salary is 3rd column\n",
    "        print(cols[1], cols[2], cols[-1])\n",
    "fh.close()"
   ]
  },
  {
   "cell_type": "markdown",
   "metadata": {},
   "source": [
    "\\* Note that sometimes you get a quoted line, instead of the title and salary. If a csv file has a comma inside a cell, the line is quoted. Thus, splitting is not the proper way to read a csv file, but it will work in a pinch. We'll learn about the `csv` module as well as other ways to read in tabular (excel-like) data in the second half of the class."
   ]
  },
  {
   "cell_type": "code",
   "execution_count": 27,
   "metadata": {
    "collapsed": false
   },
   "outputs": [
    {
     "name": "stdout",
     "output_type": "stream",
     "text": [
      "Alcatraz\n",
      "\n",
      "The Exploratorium\n",
      "\n",
      "Pier 39\n",
      "\n"
     ]
    }
   ],
   "source": [
    "# Skipping lines\n",
    "fh = open('thingstodo.txt')\n",
    "for line in fh:\n",
    "    if line.startswith('Golden'):\n",
    "        continue\n",
    "    print(line)\n",
    "fh.close()"
   ]
  },
  {
   "cell_type": "markdown",
   "metadata": {},
   "source": [
    "## Try, except with open\n",
    "\n",
    "If you are worried that the file might not exist, you can wrap the open in a try block\n",
    "\n",
    "    try:\n",
    "        fh = open('i_dont_exist.txt')\n",
    "    except:\n",
    "        print \"File does not exist\"\n",
    "        exit()\n",
    "        \n",
    "  \n",
    "    "
   ]
  },
  {
   "cell_type": "code",
   "execution_count": 28,
   "metadata": {
    "collapsed": false
   },
   "outputs": [
    {
     "name": "stdout",
     "output_type": "stream",
     "text": [
      "File does not exist\n"
     ]
    }
   ],
   "source": [
    "# Opening a non-existent file\n",
    "try:\n",
    "    fh = open('i_dont_exist.txt')\n",
    "    print(fh)\n",
    "    fh.close()\n",
    "except:\n",
    "    print(\"File does not exist\")\n",
    "    #exit()\n"
   ]
  },
  {
   "cell_type": "markdown",
   "metadata": {},
   "source": [
    "## Writing to files\n",
    "\n",
    "You can write to files very easily. You need to give open a second parameter 'w' to indicate you want to open the file in write mode.\n",
    "  \n",
    "     fh_write = open('new_file.txt', 'w')\n",
    "\n",
    "Then you call the write method on the file handle. You give it the string you want to write to the file. Be careful, `write` doesn't add a new line character to the end of strings like `print` does.\n",
    "\n",
    "     fh_write.write('line to write\\n')\n",
    "     \n",
    "Just like reading files, you need to close your file when you are done.\n",
    "\n",
    "     fh_write.close()"
   ]
  },
  {
   "cell_type": "code",
   "execution_count": 29,
   "metadata": {
    "collapsed": false
   },
   "outputs": [
    {
     "name": "stdout",
     "output_type": "stream",
     "text": [
      "['0\\n', '1\\n', '2\\n', '3\\n', '4\\n', '5\\n', '6\\n', '7\\n', '8\\n', '9\\n']\n"
     ]
    }
   ],
   "source": [
    "fh = open('numbers.txt', 'w')\n",
    "for i in range(10):\n",
    "    fh.write(str(i) + '\\n')\n",
    "fh.close()\n",
    "\n",
    "# Now let's prove that we actaully made a file\n",
    "fh = open('numbers.txt')\n",
    "lines = fh.readlines()\n",
    "print(lines)\n",
    "fh.close()\n"
   ]
  },
  {
   "cell_type": "markdown",
   "metadata": {},
   "source": [
    "### TRY IT\n",
    "Create a file called 'my_favorite_cities.txt' and put your top 3 favorite cities each on its own line.\n",
    "\n",
    "**Bonus** check that you did it correctly by reading the lines in python"
   ]
  },
  {
   "cell_type": "code",
   "execution_count": 32,
   "metadata": {
    "collapsed": false
   },
   "outputs": [],
   "source": [
    "fh = open(\"my_favorite_cities.txt\", 'w')\n",
    "fh.write(\"Charlotte, NC\\nAtlanta, GA\\nBangkok, Thailand\")\n",
    "fh.close()"
   ]
  },
  {
   "cell_type": "markdown",
   "metadata": {},
   "source": [
    "## With statement and opening files\n",
    "\n",
    "You can use with to open a file and it will automatically close the file at the end of the with block. This is the python preferred way to open files. (Sorry it took me so long to show you)\n",
    "\n",
    "    with open('filename.txt') as file_handle:\n",
    "        for line in file_handle:\n",
    "            print line\n",
    "            \n",
    "    # You don't have to close the file"
   ]
  },
  {
   "cell_type": "code",
   "execution_count": 33,
   "metadata": {
    "collapsed": false
   },
   "outputs": [
    {
     "name": "stdout",
     "output_type": "stream",
     "text": [
      "Alcatraz\n",
      "Golden Gate Bridge\n",
      "Golden Gate Park\n",
      "The Exploratorium\n",
      "Pier 39\n"
     ]
    }
   ],
   "source": [
    "with open('thingstodo.txt') as fh:\n",
    "    for line in fh:\n",
    "        print(line.rstrip())"
   ]
  },
  {
   "cell_type": "markdown",
   "metadata": {},
   "source": [
    "You can also use with statements to write files"
   ]
  },
  {
   "cell_type": "code",
   "execution_count": 35,
   "metadata": {
    "collapsed": false
   },
   "outputs": [
    {
     "name": "stdout",
     "output_type": "stream",
     "text": [
      "0\n",
      "1\n",
      "2\n",
      "3\n",
      "4\n"
     ]
    }
   ],
   "source": [
    "with open('numbers2.txt', 'w') as fh:\n",
    "    for i in range(5):\n",
    "        fh.write(str(i) + '\\n')\n",
    "with open('numbers2.txt') as fh:\n",
    "    for line in fh:\n",
    "        print(line.rstrip())"
   ]
  },
  {
   "cell_type": "markdown",
   "metadata": {},
   "source": [
    "### TRY IT\n",
    "\n",
    "Refactor this code to use a with statement:\n",
    "    # Counting lines that match criteria\n",
    "    fh = open('san-francisco-2014.csv')\n",
    "    num_trainees = 0\n",
    "    for line in fh:\n",
    "        # Remember if find doesn't find the string, it returns -1\n",
    "        if line.find('Trainee') != -1:\n",
    "            num_trainees += 1\n",
    "    fh.close()\n",
    "    print \"There are {0} trainees\".format(num_trainees)\n"
   ]
  },
  {
   "cell_type": "code",
   "execution_count": 38,
   "metadata": {
    "collapsed": false
   },
   "outputs": [
    {
     "name": "stdout",
     "output_type": "stream",
     "text": [
      "There are 518 trainees\n"
     ]
    }
   ],
   "source": [
    "with open('san-francisco-2014.csv') as fh:\n",
    "    num_trainees = 0\n",
    "    for line in fh:\n",
    "        # Remember if find doesn't find the string, it returns -1\n",
    "        if line.find('Trainee') != -1:\n",
    "            num_trainees += 1\n",
    "\n",
    "print(\"There are {0} trainees\".format(num_trainees))"
   ]
  },
  {
   "cell_type": "markdown",
   "metadata": {},
   "source": [
    "# Project \n",
    "\n",
    "We will calculate the average length of the first word in sentences in the short story \"The Yellow Wallpaper\" by Charlotte Perkins Gilman. (Feel free to use a different story, Project Gutenberg has many free ones. https://www.gutenberg.org/) This method works because in the text file, each sentence is on a separate line. If you are using another story, you may just want to go by paragraph or you can try spliting sentences on punctuation.\n",
    "\n",
    "1. Open the file in read mode using a with statement\n",
    "2. Initialize two variables sum and count to the value of 0\n",
    "3. Loop through each line. If the first character of the line is a capital letter (Check the strings lesson for the `in` keyword):\n",
    "    * Add 1 to count\n",
    "    * Split the line on spaces and find the length of the first word. Add this length to sum.\n",
    "4. Calculate the average length of first words of sentences using the sum and count variables (be careful about integer division).\n",
    "5. Open a new file 'ave_first_word_length.txt' in write mode using with statement\n",
    "6. Print the title of the story on the first line and the average first word length on the second line."
   ]
  },
  {
   "cell_type": "code",
   "execution_count": null,
   "metadata": {
    "collapsed": false
   },
   "outputs": [],
   "source": []
  }
 ],
 "metadata": {
  "kernelspec": {
   "display_name": "Python 3",
   "language": "python",
   "name": "python3"
  },
  "language_info": {
   "codemirror_mode": {
    "name": "ipython",
    "version": 3
   },
   "file_extension": ".py",
   "mimetype": "text/x-python",
   "name": "python",
   "nbconvert_exporter": "python",
   "pygments_lexer": "ipython3",
   "version": "3.5.2"
  }
 },
 "nbformat": 4,
 "nbformat_minor": 0
}
