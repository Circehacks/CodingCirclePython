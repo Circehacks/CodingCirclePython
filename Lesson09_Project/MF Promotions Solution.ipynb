{
 "cells": [
  {
   "cell_type": "code",
   "execution_count": 139,
   "metadata": {
    "collapsed": true
   },
   "outputs": [],
   "source": [
    "import random"
   ]
  },
  {
   "cell_type": "code",
   "execution_count": 148,
   "metadata": {
    "collapsed": false
   },
   "outputs": [
    {
     "name": "stdout",
     "output_type": "stream",
     "text": [
      "{'new': True, 'level': 0, 'score': 61.38892117782677, 'sex': 'woman'}\n"
     ]
    }
   ],
   "source": [
    "def generateRandomPerson(level=0, new=True):\n",
    "    score = 0\n",
    "    sex = random.choice(['man', 'woman'])\n",
    "    if sex=='man':\n",
    "        score = random.normalvariate(50, 10) + 2.01\n",
    "    else:\n",
    "        score = random.normalvariate(50, 10)\n",
    "    return {\n",
    "        'sex': sex,\n",
    "        'score': score,\n",
    "        'level': level,\n",
    "        'new': new\n",
    "    }\n",
    "print generateRandomPerson()"
   ]
  },
  {
   "cell_type": "code",
   "execution_count": 141,
   "metadata": {
    "collapsed": false
   },
   "outputs": [],
   "source": [
    "def generateStaff(levels):\n",
    "    staff = []\n",
    "    for idx, level in enumerate(levels):\n",
    "        staff.append([generateRandomPerson(level=idx, new=False) for person in range(level)])\n",
    "    return staff\n"
   ]
  },
  {
   "cell_type": "code",
   "execution_count": 142,
   "metadata": {
    "collapsed": false
   },
   "outputs": [],
   "source": [
    "def allAreNew(staff):\n",
    "    for level in staff:\n",
    "        for employee in level:\n",
    "            if not employee['new']:\n",
    "                return False\n",
    "    return True"
   ]
  },
  {
   "cell_type": "code",
   "execution_count": 143,
   "metadata": {
    "collapsed": true
   },
   "outputs": [],
   "source": [
    "def quit(staff, attrition):\n",
    "    for idx, level in enumerate(staff):\n",
    "        for idx2, employee in enumerate(level):\n",
    "            rn = random.random()\n",
    "            if rn <= attrition:\n",
    "                staff[idx][idx2] = None\n",
    "    return staff"
   ]
  },
  {
   "cell_type": "code",
   "execution_count": 144,
   "metadata": {
    "collapsed": false
   },
   "outputs": [],
   "source": [
    "def pickBest(level):\n",
    "    best = None\n",
    "    bestidx = None\n",
    "    for idx, employee in enumerate(level):\n",
    "        if best is None or (employee is not None and employee['score'] > best['score']):\n",
    "            best = employee\n",
    "            bestidx = idx\n",
    "    return bestidx"
   ]
  },
  {
   "cell_type": "code",
   "execution_count": 145,
   "metadata": {
    "collapsed": false
   },
   "outputs": [],
   "source": [
    "def promote(staff):\n",
    "    for level in reversed(range(len(staff))):\n",
    "        newlevel = []\n",
    "        for idx, employee in enumerate(staff[level]):\n",
    "            if employee is None:\n",
    "                if (level > 0):\n",
    "                    bestidx = pickBest(staff[level - 1])\n",
    "                    promotedemployee = staff[level - 1][bestidx]\n",
    "                    promotedemployee['level'] = level\n",
    "                    staff[level - 1][bestidx] = None\n",
    "                    newlevel.append(promotedemployee)\n",
    "                else:\n",
    "                    newlevel.append(generateRandomPerson())\n",
    "            else:\n",
    "                newlevel.append(employee)\n",
    "        staff[level] = newlevel\n",
    "    return staff"
   ]
  },
  {
   "cell_type": "code",
   "execution_count": 146,
   "metadata": {
    "collapsed": false
   },
   "outputs": [],
   "source": [
    "def mfratio(level):\n",
    "    m = 0\n",
    "    f = 0\n",
    "    for employee in level:\n",
    "        if employee['sex'] == 'man':\n",
    "            m += 1\n",
    "        else:\n",
    "            f += 1\n",
    "    return m, f, m/float(m + f), f/float(m+ f)"
   ]
  },
  {
   "cell_type": "code",
   "execution_count": 151,
   "metadata": {
    "collapsed": false
   },
   "outputs": [
    {
     "name": "stdout",
     "output_type": "stream",
     "text": [
      "(210, 290, 0.42, 0.58)\n",
      "(151, 199, 0.43142857142857144, 0.5685714285714286)\n",
      "(96, 104, 0.48, 0.52)\n",
      "(83, 67, 0.5533333333333333, 0.44666666666666666)\n",
      "(59, 41, 0.59, 0.41)\n",
      "(36, 39, 0.48, 0.52)\n",
      "(32, 8, 0.8, 0.2)\n",
      "(5, 5, 0.5, 0.5)\n"
     ]
    }
   ],
   "source": [
    "levels = [500, 350, 200, 150, 100, 75, 40, 10]\n",
    "attrition = 0.15\n",
    "staff = generateStaff(levels)\n",
    "# quit/promotion cycle until all employees are new\n",
    "while not allAreNew(staff):\n",
    "    staff =quit(staff, attrition)\n",
    "    staff = promote(staff)\n",
    "# print results\n",
    "for level in staff:\n",
    "    print mfratio(level)"
   ]
  },
  {
   "cell_type": "code",
   "execution_count": 135,
   "metadata": {
    "collapsed": false
   },
   "outputs": [
    {
     "name": "stdout",
     "output_type": "stream",
     "text": [
      "[{'new': True, 'level': 7, 'score': 88.12901630433419, 'sex': 'woman'}, {'new': True, 'level': 7, 'score': 78.34331335924162, 'sex': 'man'}, {'new': True, 'level': 7, 'score': 73.04051697978099, 'sex': 'woman'}, {'new': True, 'level': 7, 'score': 77.49551767908078, 'sex': 'man'}, {'new': True, 'level': 7, 'score': 71.64967624573703, 'sex': 'man'}, {'new': True, 'level': 7, 'score': 72.83227829828641, 'sex': 'woman'}, {'new': True, 'level': 7, 'score': 72.41219419646502, 'sex': 'man'}, {'new': True, 'level': 7, 'score': 73.96193729087702, 'sex': 'man'}, {'new': True, 'level': 7, 'score': 73.54940906075277, 'sex': 'woman'}, {'new': True, 'level': 7, 'score': 72.2103392854928, 'sex': 'man'}]\n"
     ]
    }
   ],
   "source": [
    "print staff[-1]"
   ]
  },
  {
   "cell_type": "code",
   "execution_count": null,
   "metadata": {
    "collapsed": true
   },
   "outputs": [],
   "source": []
  }
 ],
 "metadata": {
  "kernelspec": {
   "display_name": "Python 2",
   "language": "python",
   "name": "python2"
  },
  "language_info": {
   "codemirror_mode": {
    "name": "ipython",
    "version": 2
   },
   "file_extension": ".py",
   "mimetype": "text/x-python",
   "name": "python",
   "nbconvert_exporter": "python",
   "pygments_lexer": "ipython2",
   "version": "2.7.10"
  }
 },
 "nbformat": 4,
 "nbformat_minor": 0
}
