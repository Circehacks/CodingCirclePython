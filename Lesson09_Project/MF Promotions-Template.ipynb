{
 "cells": [
  {
   "cell_type": "markdown",
   "metadata": {
    "collapsed": false
   },
   "source": [
    "We are going to replacte the results in this paper: http://www.ruf.rice.edu/~lane/papers/male_female.pdf Take a minute to read the paper. They found that small biases in evalutations of men and women in the workplace can result in a significan underrepresntation of women in top roles.\n",
    "\n",
    "    Even more dramatic is the finding that when\n",
    "    sex differences explained but 1% of the variance,\n",
    "    an estimate that might be dismissed as\n",
    "    trivial, only 35% of the highest-level positions\n",
    "    were filled by women\n",
    "\n",
    "Essentially we are going to set up a company hierarchy simulation with a modifiable bias factor. Then play out a attrition and promotion cycle to see how this affects gender distribution at different levels.\n",
    "\n",
    "I've started you off with genrateRandomPerson function which will be used to generate all the employees of this company. As well as `levels` which is a list of the number of employees at each level and `attrition` which is the percentage of\n",
    "employees who are replaced each cycle.\n",
    "\n",
    "Fill in the functions and the main program and see the results of the simulation. Do you come up with the same results?\n"
   ]
  },
  {
   "cell_type": "code",
   "execution_count": null,
   "metadata": {
    "collapsed": true
   },
   "outputs": [],
   "source": [
    "import random"
   ]
  },
  {
   "cell_type": "code",
   "execution_count": null,
   "metadata": {
    "collapsed": false
   },
   "outputs": [],
   "source": [
    "def generateRandomPerson(level=0, new=True):\n",
    "    \"\"\"\n",
    "    Generates a new person (dictionary) at the specified level, and whether they are new.\n",
    "    Assignes random gender and preformance score (median 50, variance 10). Men get a small bias\n",
    "    added to increase their score.\n",
    "    \"\"\"\n",
    "    score = 0\n",
    "    bias = 2.1\n",
    "    sex = random.choice(['man', 'woman'])\n",
    "    if sex=='man':\n",
    "        score = random.normalvariate(50, 10) + bias\n",
    "    else:\n",
    "        score = random.normalvariate(50, 10)\n",
    "    return {\n",
    "        'sex': sex,\n",
    "        'score': score,\n",
    "        'level': level,\n",
    "        'new': new\n",
    "    }\n",
    "print generateRandomPerson()"
   ]
  },
  {
   "cell_type": "code",
   "execution_count": null,
   "metadata": {
    "collapsed": false
   },
   "outputs": [],
   "source": [
    "def generateStaff(levels):\n",
    "    \"\"\"\n",
    "    returns list of list of employees created by generateRandom person. Each element in list should have \n",
    "    a list of random employees, the length should be the same as the value at that index in the levels\n",
    "    parameter.\n",
    "    \n",
    "    Staff's level should be the index of the list they are at. new should be false.\n",
    "    \"\"\"\n",
    "    pass\n"
   ]
  },
  {
   "cell_type": "code",
   "execution_count": null,
   "metadata": {
    "collapsed": false
   },
   "outputs": [],
   "source": [
    "def allAreNew(staff):\n",
    "    \"\"\"\n",
    "    Returns true if all staff are new, false if even one original member of staff is old\n",
    "    \"\"\"\n",
    "    pass"
   ]
  },
  {
   "cell_type": "code",
   "execution_count": null,
   "metadata": {
    "collapsed": true
   },
   "outputs": [],
   "source": [
    "def quit(staff, attrition):\n",
    "    \"\"\"\n",
    "    Use random numbers to replace `attrition` percentage of staff with None, return staff.\n",
    "    \"\"\"\n",
    "    pass"
   ]
  },
  {
   "cell_type": "code",
   "execution_count": null,
   "metadata": {
    "collapsed": false
   },
   "outputs": [],
   "source": [
    "def pickBest(staff_level):\n",
    "    \"\"\"\n",
    "    returns a single employee with the best score from the list of employees in staff_level (there can be `None`s in the list)\n",
    "    May want to return their index too\n",
    "    \"\"\"\n",
    "    pass"
   ]
  },
  {
   "cell_type": "code",
   "execution_count": null,
   "metadata": {
    "collapsed": false
   },
   "outputs": [],
   "source": [
    "def promote(staff):\n",
    "    \"\"\"\n",
    "    for each level in staff replaces any none employees. If the None is in level 0, replace with a newly generated employee\n",
    "    from generateRandomPerson with level =0 and new=True. Otherwise pick the best employee from the previous\n",
    "    level using the pickBest function. The promoted employee should be deleted from the previous level (replaced with None)\n",
    "    and their level key should be updated with their new level. Returns updated staff (there should be no `None` employees)\n",
    "    \"\"\"\n",
    "    pass"
   ]
  },
  {
   "cell_type": "code",
   "execution_count": null,
   "metadata": {
    "collapsed": false
   },
   "outputs": [],
   "source": [
    "def mfratio(staff_level):\n",
    "    \"\"\"\n",
    "    For a give staff level returns a tuple of number of men, number of women, percentage men, percentage women\n",
    "    \"\"\"\n",
    "    pass"
   ]
  },
  {
   "cell_type": "code",
   "execution_count": null,
   "metadata": {
    "collapsed": false
   },
   "outputs": [],
   "source": [
    "# Main program\n",
    "\n",
    "levels = [500, 350, 200, 150, 100, 75, 40, 10]\n",
    "attrition = 0.15\n",
    "# Generate staff\n",
    "# Start with a set number of iterations (5)\n",
    "# run quit and then promote and update staff with the new staff\n",
    "# print out the mfratio\n",
    "# Once that is working, update the iteration loop, to run untill all staff are new\n"
   ]
  }
 ],
 "metadata": {
  "kernelspec": {
   "display_name": "Python 2",
   "language": "python",
   "name": "python2"
  },
  "language_info": {
   "codemirror_mode": {
    "name": "ipython",
    "version": 2
   },
   "file_extension": ".py",
   "mimetype": "text/x-python",
   "name": "python",
   "nbconvert_exporter": "python",
   "pygments_lexer": "ipython2",
   "version": "2.7.10"
  }
 },
 "nbformat": 4,
 "nbformat_minor": 0
}
