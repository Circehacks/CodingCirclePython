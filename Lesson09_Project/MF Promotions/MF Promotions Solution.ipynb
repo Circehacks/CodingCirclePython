{
 "cells": [
  {
   "cell_type": "code",
   "execution_count": 1,
   "metadata": {
    "collapsed": true
   },
   "outputs": [],
   "source": [
    "import random"
   ]
  },
  {
   "cell_type": "code",
   "execution_count": 2,
   "metadata": {
    "collapsed": false
   },
   "outputs": [
    {
     "name": "stdout",
     "output_type": "stream",
     "text": [
      "{'new': True, 'level': 0, 'score': 61.72882823379742, 'sex': 'woman'}\n"
     ]
    }
   ],
   "source": [
    "def generateRandomPerson(level=0, new=True):\n",
    "    score = 0\n",
    "    sex = random.choice(['man', 'woman'])\n",
    "    if sex=='man':\n",
    "        score = random.normalvariate(50, 10) + 2.01\n",
    "    else:\n",
    "        score = random.normalvariate(50, 10)\n",
    "    return {\n",
    "        'sex': sex,\n",
    "        'score': score,\n",
    "        'level': level,\n",
    "        'new': new\n",
    "    }\n",
    "print generateRandomPerson()"
   ]
  },
  {
   "cell_type": "code",
   "execution_count": 3,
   "metadata": {
    "collapsed": false
   },
   "outputs": [],
   "source": [
    "def generateStaff(levels):\n",
    "    staff = []\n",
    "    for idx, level in enumerate(levels):\n",
    "        staff.append([generateRandomPerson(level=idx, new=False) for person in range(level)])\n",
    "    return staff\n"
   ]
  },
  {
   "cell_type": "code",
   "execution_count": 4,
   "metadata": {
    "collapsed": false
   },
   "outputs": [],
   "source": [
    "def allAreNew(staff):\n",
    "    for level in staff:\n",
    "        for employee in level:\n",
    "            if not employee['new']:\n",
    "                return False\n",
    "    return True"
   ]
  },
  {
   "cell_type": "code",
   "execution_count": 5,
   "metadata": {
    "collapsed": true
   },
   "outputs": [],
   "source": [
    "def quit(staff, attrition):\n",
    "    for idx, level in enumerate(staff):\n",
    "        for idx2, employee in enumerate(level):\n",
    "            rn = random.random()\n",
    "            if rn <= attrition:\n",
    "                staff[idx][idx2] = None\n",
    "    return staff"
   ]
  },
  {
   "cell_type": "code",
   "execution_count": 6,
   "metadata": {
    "collapsed": false
   },
   "outputs": [],
   "source": [
    "def pickBest(level):\n",
    "    best = None\n",
    "    bestidx = None\n",
    "    for idx, employee in enumerate(level):\n",
    "        if best is None or (employee is not None and employee['score'] > best['score']):\n",
    "            best = employee\n",
    "            bestidx = idx\n",
    "    return bestidx"
   ]
  },
  {
   "cell_type": "code",
   "execution_count": 7,
   "metadata": {
    "collapsed": false
   },
   "outputs": [],
   "source": [
    "def promote(staff):\n",
    "    for level in reversed(range(len(staff))):\n",
    "        newlevel = []\n",
    "        for idx, employee in enumerate(staff[level]):\n",
    "            if employee is None:\n",
    "                if (level > 0):\n",
    "                    bestidx = pickBest(staff[level - 1])\n",
    "                    promotedemployee = staff[level - 1][bestidx]\n",
    "                    promotedemployee['level'] = level\n",
    "                    staff[level - 1][bestidx] = None\n",
    "                    newlevel.append(promotedemployee)\n",
    "                else:\n",
    "                    newlevel.append(generateRandomPerson())\n",
    "            else:\n",
    "                newlevel.append(employee)\n",
    "        staff[level] = newlevel\n",
    "    return staff"
   ]
  },
  {
   "cell_type": "code",
   "execution_count": 8,
   "metadata": {
    "collapsed": false
   },
   "outputs": [],
   "source": [
    "def mfratio(level):\n",
    "    m = 0\n",
    "    f = 0\n",
    "    for employee in level:\n",
    "        if employee['sex'] == 'man':\n",
    "            m += 1\n",
    "        else:\n",
    "            f += 1\n",
    "    return m, f, m/float(m + f), f/float(m+ f)"
   ]
  },
  {
   "cell_type": "code",
   "execution_count": 13,
   "metadata": {
    "collapsed": false
   },
   "outputs": [
    {
     "name": "stdout",
     "output_type": "stream",
     "text": [
      "(235, 265, 0.47, 0.53)\n",
      "(176, 174, 0.5028571428571429, 0.49714285714285716)\n",
      "(108, 92, 0.54, 0.46)\n",
      "(70, 80, 0.4666666666666667, 0.5333333333333333)\n",
      "(59, 41, 0.59, 0.41)\n",
      "(37, 38, 0.49333333333333335, 0.5066666666666667)\n",
      "(23, 17, 0.575, 0.425)\n",
      "(6, 4, 0.6, 0.4)\n"
     ]
    }
   ],
   "source": [
    "levels = [500, 350, 200, 150, 100, 75, 40, 10]\n",
    "attrition = 0.15\n",
    "staff = generateStaff(levels)\n",
    "# quit/promotion cycle until all employees are new\n",
    "while not allAreNew(staff):\n",
    "    staff =quit(staff, attrition)\n",
    "    staff = promote(staff)\n",
    "# print results\n",
    "for level in staff:\n",
    "    print mfratio(level)"
   ]
  },
  {
   "cell_type": "code",
   "execution_count": 11,
   "metadata": {
    "collapsed": false
   },
   "outputs": [
    {
     "name": "stdout",
     "output_type": "stream",
     "text": [
      "[{'new': True, 'level': 7, 'score': 74.43470909236358, 'sex': 'man'}, {'new': True, 'level': 7, 'score': 75.17777956219028, 'sex': 'woman'}, {'new': True, 'level': 7, 'score': 76.13682393415695, 'sex': 'man'}, {'new': True, 'level': 7, 'score': 82.32275173464656, 'sex': 'man'}, {'new': True, 'level': 7, 'score': 75.64152362961048, 'sex': 'man'}, {'new': True, 'level': 7, 'score': 74.13941485421459, 'sex': 'man'}, {'new': True, 'level': 7, 'score': 69.46617940781046, 'sex': 'woman'}, {'new': True, 'level': 7, 'score': 73.58898026601628, 'sex': 'woman'}, {'new': True, 'level': 7, 'score': 70.8767501187351, 'sex': 'man'}, {'new': True, 'level': 7, 'score': 69.10711788124188, 'sex': 'man'}]\n"
     ]
    }
   ],
   "source": [
    "print staff[-1]"
   ]
  },
  {
   "cell_type": "code",
   "execution_count": null,
   "metadata": {
    "collapsed": true
   },
   "outputs": [],
   "source": [
    "\n"
   ]
  },
  {
   "cell_type": "code",
   "execution_count": null,
   "metadata": {
    "collapsed": true
   },
   "outputs": [],
   "source": []
  },
  {
   "cell_type": "code",
   "execution_count": null,
   "metadata": {
    "collapsed": true
   },
   "outputs": [],
   "source": []
  },
  {
   "cell_type": "code",
   "execution_count": null,
   "metadata": {
    "collapsed": true
   },
   "outputs": [],
   "source": []
  },
  {
   "cell_type": "code",
   "execution_count": null,
   "metadata": {
    "collapsed": true
   },
   "outputs": [],
   "source": []
  },
  {
   "cell_type": "code",
   "execution_count": null,
   "metadata": {
    "collapsed": true
   },
   "outputs": [],
   "source": []
  },
  {
   "cell_type": "code",
   "execution_count": null,
   "metadata": {
    "collapsed": true
   },
   "outputs": [],
   "source": []
  }
 ],
 "metadata": {
  "kernelspec": {
   "display_name": "Python 2",
   "language": "python",
   "name": "python2"
  },
  "language_info": {
   "codemirror_mode": {
    "name": "ipython",
    "version": 2
   },
   "file_extension": ".py",
   "mimetype": "text/x-python",
   "name": "python",
   "nbconvert_exporter": "python",
   "pygments_lexer": "ipython2",
   "version": "2.7.11"
  }
 },
 "nbformat": 4,
 "nbformat_minor": 0
}
