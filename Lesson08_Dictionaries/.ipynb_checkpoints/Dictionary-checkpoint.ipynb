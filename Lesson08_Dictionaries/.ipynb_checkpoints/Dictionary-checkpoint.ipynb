{
 "cells": [
  {
   "cell_type": "markdown",
   "metadata": {},
   "source": [
    "# Dictionaries\n",
    "\n",
    "A dictionary is datatype that contains a series of key-value pairs. It is similar to a list except for that the indicies of the values can be strings, tuples, etc. not just integers. It is also different in that it is unordered. You cannot expect to get the keys in the same order out as you put them in.\n",
    "\n",
    "To create a dictionary:\n",
    "\n",
    "    my_dict = { key1: value1, key2: value2 }\n",
    "\n",
    "To create an empty dictionary:\n",
    "    my_dict = {}  or\n",
    "    my_dict = dict()\n",
    "\n",
    "While the values can be any arbitrary objects (including images), the keys elements are unique (e.g. no duplicate key) and immutable (e.g. can not be changed).  Note that dictionaries in general are mutable (e.g. their contents can be changed)."
   ]
  },
  {
   "cell_type": "code",
   "execution_count": null,
   "metadata": {
    "collapsed": false
   },
   "outputs": [],
   "source": [
    "fruit_season = {\n",
    "    'raspberry': 'May',\n",
    "    'apple'    : 'September',\n",
    "    'peach'    : 'July',\n",
    "    'grape'    : 'August'\n",
    "} \n",
    "\n",
    "print type(fruit_season)\n",
    "print fruit_season"
   ]
  },
  {
   "cell_type": "markdown",
   "metadata": {},
   "source": [
    "To access a value you index into it similarly to a list using square brackets.\n",
    "\n",
    "    value_of_key1 = my_dict['key1'] "
   ]
  },
  {
   "cell_type": "code",
   "execution_count": null,
   "metadata": {
    "collapsed": false
   },
   "outputs": [],
   "source": [
    "raspberry_season = fruit_season['raspberry']\n",
    "print raspberry_season"
   ]
  },
  {
   "cell_type": "markdown",
   "metadata": {},
   "source": [
    "Trying to access a key not in the dictionary throws an error"
   ]
  },
  {
   "cell_type": "code",
   "execution_count": null,
   "metadata": {
    "collapsed": false
   },
   "outputs": [],
   "source": [
    "print fruit_season['mangos']"
   ]
  },
  {
   "cell_type": "markdown",
   "metadata": {},
   "source": [
    "To add an item to the dictionary set the value equal to the indexed keys\n",
    "\n",
    "    dict['new_key'] = value"
   ]
  },
  {
   "cell_type": "code",
   "execution_count": null,
   "metadata": {
    "collapsed": false
   },
   "outputs": [],
   "source": [
    "fruit_season['strawberry'] = 'May'\n",
    "print fruit_season"
   ]
  },
  {
   "cell_type": "markdown",
   "metadata": {},
   "source": [
    "To delete a key, use the del keyword\n",
    "\n",
    "    del dict['key to delete']"
   ]
  },
  {
   "cell_type": "code",
   "execution_count": null,
   "metadata": {
    "collapsed": false
   },
   "outputs": [],
   "source": [
    "del fruit_season['strawberry']\n",
    "print fruit_season"
   ]
  },
  {
   "cell_type": "markdown",
   "metadata": {},
   "source": [
    "### TRY IT\n",
    "Create a dictionary called vegetable_season with Eggplant-> July and Onion -> May"
   ]
  },
  {
   "cell_type": "code",
   "execution_count": null,
   "metadata": {
    "collapsed": false
   },
   "outputs": [],
   "source": []
  },
  {
   "cell_type": "markdown",
   "metadata": {},
   "source": [
    "## Dictionary Operators\n",
    "\n",
    "The in operator returns a boolean for whether the key is in the dictionary or not.\n",
    "\n",
    "    key in dictionary "
   ]
  },
  {
   "cell_type": "code",
   "execution_count": null,
   "metadata": {
    "collapsed": false
   },
   "outputs": [],
   "source": [
    "print 'raspberry' in fruit_season\n",
    "print 'mangos' in fruit_season"
   ]
  },
  {
   "cell_type": "markdown",
   "metadata": {},
   "source": [
    "You can use this in if statement"
   ]
  },
  {
   "cell_type": "code",
   "execution_count": null,
   "metadata": {
    "collapsed": false
   },
   "outputs": [],
   "source": [
    "if 'pineapple' in fruit_season:\n",
    "    print 'Lets eat tropical fruit'\n",
    "else:\n",
    "    print \"Temperate fruit it is.\""
   ]
  },
  {
   "cell_type": "markdown",
   "metadata": {},
   "source": [
    "### TRY IT\n",
    "Check if 'broccoli' is in vegetable_season. If so, print 'Yum, little trees!'"
   ]
  },
  {
   "cell_type": "code",
   "execution_count": null,
   "metadata": {
    "collapsed": true
   },
   "outputs": [],
   "source": []
  },
  {
   "cell_type": "markdown",
   "metadata": {},
   "source": [
    "## Dictionaries and Loops\n",
    "\n",
    "You can use a for in loop to loop through dictionaries\n",
    "\n",
    "    for key in dictionary:\n",
    "        print key"
   ]
  },
  {
   "cell_type": "code",
   "execution_count": null,
   "metadata": {
    "collapsed": false
   },
   "outputs": [],
   "source": [
    "for fruit in fruit_season:\n",
    "    print \"{0} is best in {1} (at least in Virginia)\".format(fruit.title(), fruit_season[fruit])"
   ]
  },
  {
   "cell_type": "markdown",
   "metadata": {},
   "source": [
    "## Dictionary Methods\n",
    "\n",
    "You can use the `keys`, `values`, or `items` metods to return lists of keys, values, or key-value tupes repectively.\n",
    "\n",
    "You can then use these for sorting or for looping"
   ]
  },
  {
   "cell_type": "code",
   "execution_count": null,
   "metadata": {
    "collapsed": false
   },
   "outputs": [],
   "source": [
    "print fruit_season.keys()\n",
    "print fruit_season.values()\n",
    "print fruit_season.items()"
   ]
  },
  {
   "cell_type": "code",
   "execution_count": null,
   "metadata": {
    "collapsed": false
   },
   "outputs": [],
   "source": [
    "for key, value in fruit_season.items():\n",
    "    print \"In {0} eat a {1}\".format(value, key)"
   ]
  },
  {
   "cell_type": "code",
   "execution_count": null,
   "metadata": {
    "collapsed": false
   },
   "outputs": [],
   "source": [
    "print sorted(fruit_season.keys())"
   ]
  },
  {
   "cell_type": "markdown",
   "metadata": {},
   "source": [
    "### TRY IT\n",
    "Loop through the sorted keys of the vegetable_season dictionary. For each key, print the month it is in season"
   ]
  },
  {
   "cell_type": "code",
   "execution_count": null,
   "metadata": {
    "collapsed": false
   },
   "outputs": [],
   "source": []
  },
  {
   "cell_type": "markdown",
   "metadata": {},
   "source": [
    "## More complex dictionaries\n",
    "\n",
    "Dictionary keys and values can be almost anything. The keys must be hashable which means it cannot change. That means that lists and dictionaries cannot be keys (but strings, tuples, and integers can).\n",
    "\n",
    "Values can be just about anything, though.\n",
    "\n"
   ]
  },
  {
   "cell_type": "code",
   "execution_count": null,
   "metadata": {
    "collapsed": false
   },
   "outputs": [],
   "source": [
    "my_complicated_dictionary = {\n",
    "    (1, 2, 3): 6,\n",
    "    'weevil': {\n",
    "        'e': 2,\n",
    "        'i': 1,\n",
    "        'l': 1,\n",
    "        'v': 1,\n",
    "        'w': 1,\n",
    "    },\n",
    "    9: [3, 3]\n",
    "}\n",
    "print my_complicated_dictionary"
   ]
  },
  {
   "cell_type": "markdown",
   "metadata": {},
   "source": [
    "Let's use this to create a more realistic fruit season dictionary"
   ]
  },
  {
   "cell_type": "code",
   "execution_count": null,
   "metadata": {
    "collapsed": false
   },
   "outputs": [],
   "source": [
    "true_fruit_season = {\n",
    "    'raspberry': ['May', 'June'],\n",
    "    'apple': ['September', 'October', 'November', 'December'],\n",
    "    'peach': ['July', 'August'],\n",
    "    'grape': ['August', 'September', 'October']\n",
    "} \n",
    "\n",
    "print true_fruit_season"
   ]
  },
  {
   "cell_type": "code",
   "execution_count": null,
   "metadata": {
    "collapsed": false
   },
   "outputs": [],
   "source": [
    "months = ['January', 'February', 'March', 'April', 'May', 'June', 'July', 'August', 'September', 'October', 'November', 'December']\n",
    "\n",
    "for month in months:\n",
    "    print 'It is {0}'.format(month)\n",
    "    for fruit, season in true_fruit_season.items():\n",
    "        if month in season:\n",
    "            print \"\\tEat {0}\".format(fruit)"
   ]
  },
  {
   "cell_type": "markdown",
   "metadata": {},
   "source": [
    "### TRY IT\n",
    "Add a key to the true_fruit_season for 'watermelons' the season is July, August, and September"
   ]
  },
  {
   "cell_type": "code",
   "execution_count": null,
   "metadata": {
    "collapsed": false
   },
   "outputs": [],
   "source": []
  },
  {
   "cell_type": "code",
   "execution_count": null,
   "metadata": {
    "collapsed": false
   },
   "outputs": [],
   "source": [
    "my_dict = {}\n",
    "\n",
    "for i in ['A', 'B', 'C']:\n",
    "    my_dict[i] = []\n",
    "    \n",
    "    \n",
    "for i in ['Adoreable', 'Acceptable', 'Bad', 'Cute', 'Basic', 'Dumb']:\n",
    "    first_char = i[0]\n",
    "    if first_char in my_dict:\n",
    "        my_dict[first_char].append(i)\n",
    "print my_dict"
   ]
  },
  {
   "cell_type": "code",
   "execution_count": null,
   "metadata": {
    "collapsed": false
   },
   "outputs": [],
   "source": [
    "my_dict = {}\n",
    "\n",
    "for i in ['a', 'b', 'c']:\n",
    "    my_dict[i] = []\n",
    "    \n",
    "with open('adjectives.txt') as fh:\n",
    "    for line in fh:\n",
    "        #word = line.rstrip().title()\n",
    "        word = line\n",
    "        first_char = word[0]\n",
    "        if first_char in my_dict:\n",
    "            my_dict[first_char].append(word)\n",
    "            \n",
    "print my_dict['a']"
   ]
  },
  {
   "cell_type": "markdown",
   "metadata": {},
   "source": [
    "## Project: Acrostic\n",
    "\n",
    "Create an acrostic poem generator.\n",
    "\n",
    "You will create a function that takes a name and generates an acrostic poem\n",
    "\n",
    "1. Create a dictionary that has each of the capital letters as keys and an adjective that start with the letter as the value and store in variable named adjectives. (Reference: http://www.enchantedlearning.com/wordlist/adjectives.shtml)\n",
    "2. Create a function called acrostic that takes one parameter name.\n",
    "3. In the acrostic function capitilize the name (use the upper method)\n",
    "4. For each letter in the name\n",
    "5. Get the adjective corrisponding to that letter and store in a variable called current_adj\n",
    "6. Print out Letter-current_adj\n",
    "\n",
    "** Challenge ** instead of just one adjective have each letter's value be a list of adjectives. Use the random module to select a random adjective instead of always selecting the same one.\n"
   ]
  },
  {
   "cell_type": "code",
   "execution_count": null,
   "metadata": {
    "collapsed": true
   },
   "outputs": [],
   "source": []
  }
 ],
 "metadata": {
  "kernelspec": {
   "display_name": "Python 2",
   "language": "python",
   "name": "python2"
  },
  "language_info": {
   "codemirror_mode": {
    "name": "ipython",
    "version": 2
   },
   "file_extension": ".py",
   "mimetype": "text/x-python",
   "name": "python",
   "nbconvert_exporter": "python",
   "pygments_lexer": "ipython2",
   "version": "2.7.11"
  }
 },
 "nbformat": 4,
 "nbformat_minor": 0
}
