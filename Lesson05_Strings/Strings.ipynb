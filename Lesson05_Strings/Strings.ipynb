{
 "cells": [
  {
   "cell_type": "markdown",
   "metadata": {},
   "source": [
    "# Strings\n",
    "\n",
    "A sting is a sequence of characters. A string's characters can be treated similarly to a list. Each character has an index starting at 0 and can be accessed just like a list\n",
    "\n",
    "    my_str = \"M y   S t r i n g\"\n",
    "    #index    0 1 2 3 4 5 6 7 8\n",
    "    \n",
    "    print my_str[0]\n"
   ]
  },
  {
   "cell_type": "code",
   "execution_count": 1,
   "metadata": {
    "collapsed": false
   },
   "outputs": [
    {
     "name": "stdout",
     "output_type": "stream",
     "text": [
      "R\n",
      "a\n"
     ]
    }
   ],
   "source": [
    "chinese_zodiac = \"Rat Ox Tiger Rabbit Dragon Snake Horse Goat Monkey Rooster Dog Pig\"\n",
    "print(chinese_zodiac[0])\n",
    "print(chinese_zodiac[1])"
   ]
  },
  {
   "cell_type": "markdown",
   "metadata": {},
   "source": [
    "### TRY IT\n",
    "Create a string with the 5 elements of the Chinese zodiac (wood fire earth metal water) and store it in a variable called elements. Get the 4th letter of elements."
   ]
  },
  {
   "cell_type": "code",
   "execution_count": 2,
   "metadata": {
    "collapsed": false
   },
   "outputs": [
    {
     "name": "stdout",
     "output_type": "stream",
     "text": [
      "d\n"
     ]
    }
   ],
   "source": [
    "elements = \"wood fire earth metal water\"\n",
    "print(elements[3])"
   ]
  },
  {
   "cell_type": "markdown",
   "metadata": {},
   "source": [
    "You can get the length (number of characters) of a string by using the len operator\n",
    "\n",
    "    len(my_string)"
   ]
  },
  {
   "cell_type": "code",
   "execution_count": 3,
   "metadata": {
    "collapsed": false
   },
   "outputs": [
    {
     "name": "stdout",
     "output_type": "stream",
     "text": [
      "66\n"
     ]
    }
   ],
   "source": [
    "print(len(chinese_zodiac))"
   ]
  },
  {
   "cell_type": "markdown",
   "metadata": {},
   "source": [
    "Be careful with length, it is the number of characters, not the last index.\n",
    "\n",
    "The last index is len(string) - 1"
   ]
  },
  {
   "cell_type": "code",
   "execution_count": 5,
   "metadata": {
    "collapsed": false
   },
   "outputs": [
    {
     "ename": "IndexError",
     "evalue": "string index out of range",
     "output_type": "error",
     "traceback": [
      "\u001b[0;31m---------------------------------------------------------------------------\u001b[0m",
      "\u001b[0;31mIndexError\u001b[0m                                Traceback (most recent call last)",
      "\u001b[0;32m<ipython-input-5-f607eed6a57f>\u001b[0m in \u001b[0;36m<module>\u001b[0;34m()\u001b[0m\n\u001b[1;32m      1\u001b[0m \u001b[0mzlen\u001b[0m \u001b[0;34m=\u001b[0m \u001b[0mlen\u001b[0m\u001b[0;34m(\u001b[0m\u001b[0mchinese_zodiac\u001b[0m\u001b[0;34m)\u001b[0m\u001b[0;34m\u001b[0m\u001b[0m\n\u001b[1;32m      2\u001b[0m \u001b[0;31m# WRONG\u001b[0m\u001b[0;34m\u001b[0m\u001b[0;34m\u001b[0m\u001b[0m\n\u001b[0;32m----> 3\u001b[0;31m \u001b[0mprint\u001b[0m\u001b[0;34m(\u001b[0m\u001b[0mchinese_zodiac\u001b[0m\u001b[0;34m[\u001b[0m\u001b[0mzlen\u001b[0m\u001b[0;34m]\u001b[0m\u001b[0;34m)\u001b[0m\u001b[0;34m\u001b[0m\u001b[0m\n\u001b[0m\u001b[1;32m      4\u001b[0m \u001b[0;31m# RIGHT\u001b[0m\u001b[0;34m\u001b[0m\u001b[0;34m\u001b[0m\u001b[0m\n\u001b[1;32m      5\u001b[0m \u001b[0mprint\u001b[0m\u001b[0;34m(\u001b[0m\u001b[0mchinese_zodiac\u001b[0m\u001b[0;34m[\u001b[0m\u001b[0mzlen\u001b[0m \u001b[0;34m-\u001b[0m \u001b[0;36m1\u001b[0m\u001b[0;34m]\u001b[0m\u001b[0;34m)\u001b[0m\u001b[0;34m\u001b[0m\u001b[0m\n",
      "\u001b[0;31mIndexError\u001b[0m: string index out of range"
     ]
    }
   ],
   "source": [
    "zlen = len(chinese_zodiac)\n",
    "# WRONG\n",
    "print(chinese_zodiac[zlen])\n",
    "# RIGHT\n",
    "print(chinese_zodiac[zlen - 1])"
   ]
  },
  {
   "cell_type": "markdown",
   "metadata": {},
   "source": [
    "But actually you can use negative indexing to get the last character in a string. -1 is the last character, -2 is the second to last and so on. \n",
    "\n",
    "Wondering why negative indexing starts with -1 and not 0? It's because -0 and 0 are the same thing, so you would just get the first character."
   ]
  },
  {
   "cell_type": "code",
   "execution_count": 6,
   "metadata": {
    "collapsed": false
   },
   "outputs": [
    {
     "name": "stdout",
     "output_type": "stream",
     "text": [
      "g\n"
     ]
    }
   ],
   "source": [
    "print(chinese_zodiac[-1])"
   ]
  },
  {
   "cell_type": "markdown",
   "metadata": {},
   "source": [
    "### TRY IT\n",
    "Create a string with your name and store it in a variable called name. Print the last character of your name using both indexing methods (positive and negative)."
   ]
  },
  {
   "cell_type": "code",
   "execution_count": 7,
   "metadata": {
    "collapsed": false
   },
   "outputs": [
    {
     "name": "stdout",
     "output_type": "stream",
     "text": [
      "e\n"
     ]
    },
    {
     "data": {
      "text/plain": [
       "'e'"
      ]
     },
     "execution_count": 7,
     "metadata": {},
     "output_type": "execute_result"
    }
   ],
   "source": [
    "name = \"Charlotte\"\n",
    "print(name[len(name) - 1])\n",
    "name[-1]\n"
   ]
  },
  {
   "cell_type": "markdown",
   "metadata": {},
   "source": [
    "### String Slices\n",
    "You can take more than a single character; you can take a whole slice. To take a slice, give the first index and then the last index + 1. (The first index is inclusive, second index is exclusive)\n",
    "\n",
    "    string[0:5]"
   ]
  },
  {
   "cell_type": "code",
   "execution_count": 8,
   "metadata": {
    "collapsed": false
   },
   "outputs": [
    {
     "name": "stdout",
     "output_type": "stream",
     "text": [
      "Ox\n"
     ]
    }
   ],
   "source": [
    "second_animal = chinese_zodiac[4:6]\n",
    "print(second_animal)"
   ]
  },
  {
   "cell_type": "markdown",
   "metadata": {},
   "source": [
    "You can omit the first index and it will start at the beginning, you can omit the last index and it will go to the end."
   ]
  },
  {
   "cell_type": "code",
   "execution_count": 9,
   "metadata": {
    "collapsed": false
   },
   "outputs": [
    {
     "name": "stdout",
     "output_type": "stream",
     "text": [
      "Rat Ox Tiger Rabbit Dragon Snake\n",
      "Horse Goat Monkey Rooster Dog Pig\n"
     ]
    }
   ],
   "source": [
    "first_six = chinese_zodiac[:32]\n",
    "print(first_six)\n",
    "\n",
    "last_six = chinese_zodiac[33:]\n",
    "print(last_six)"
   ]
  },
  {
   "cell_type": "markdown",
   "metadata": {},
   "source": [
    "### TRY IT\n",
    "What happens when you omit both indices? Try it on the chinese_zodiac."
   ]
  },
  {
   "cell_type": "code",
   "execution_count": 10,
   "metadata": {
    "collapsed": false
   },
   "outputs": [
    {
     "data": {
      "text/plain": [
       "'Rat Ox Tiger Rabbit Dragon Snake Horse Goat Monkey Rooster Dog Pig'"
      ]
     },
     "execution_count": 10,
     "metadata": {},
     "output_type": "execute_result"
    }
   ],
   "source": [
    "chinese_zodiac[:]"
   ]
  },
  {
   "cell_type": "markdown",
   "metadata": {},
   "source": [
    "## Immutable strings\n",
    "\n",
    "Strings are immutable. You cannot change their contents; you must make a new string."
   ]
  },
  {
   "cell_type": "code",
   "execution_count": 11,
   "metadata": {
    "collapsed": false
   },
   "outputs": [
    {
     "ename": "TypeError",
     "evalue": "'str' object does not support item assignment",
     "output_type": "error",
     "traceback": [
      "\u001b[0;31m---------------------------------------------------------------------------\u001b[0m",
      "\u001b[0;31mTypeError\u001b[0m                                 Traceback (most recent call last)",
      "\u001b[0;32m<ipython-input-11-14192b208e65>\u001b[0m in \u001b[0;36m<module>\u001b[0;34m()\u001b[0m\n\u001b[1;32m      1\u001b[0m \u001b[0;31m# This will fail\u001b[0m\u001b[0;34m\u001b[0m\u001b[0;34m\u001b[0m\u001b[0m\n\u001b[0;32m----> 2\u001b[0;31m \u001b[0mchinese_zodiac\u001b[0m\u001b[0;34m[\u001b[0m\u001b[0;36m0\u001b[0m\u001b[0;34m]\u001b[0m \u001b[0;34m=\u001b[0m \u001b[0;34m'A'\u001b[0m\u001b[0;34m\u001b[0m\u001b[0m\n\u001b[0m",
      "\u001b[0;31mTypeError\u001b[0m: 'str' object does not support item assignment"
     ]
    }
   ],
   "source": [
    "# This will fail\n",
    "chinese_zodiac[0] = 'A'"
   ]
  },
  {
   "cell_type": "code",
   "execution_count": 14,
   "metadata": {
    "collapsed": false
   },
   "outputs": [
    {
     "name": "stdout",
     "output_type": "stream",
     "text": [
      "Rat Ox Tiger Rabbit Dragon Snake Horse Goat Monkey Rooster Dog Pig\n",
      "at Ox Tiger Rabbit Dragon Snake Horse Goat Monkey Rooster Dog Pig\n",
      "Cat Ox Tiger Rabbit Dragon Snake Horse Goat Monkey Rooster Dog Pig\n"
     ]
    }
   ],
   "source": [
    "# This is better\n",
    "print(chinese_zodiac)\n",
    "chinese_zodiac_minus_r = chinese_zodiac[1:]\n",
    "print(chinese_zodiac_minus_r)\n",
    "\n",
    "ate_the_rat = \"C\" + chinese_zodiac_minus_r\n",
    "print(ate_the_rat)"
   ]
  },
  {
   "cell_type": "markdown",
   "metadata": {},
   "source": [
    "## Strings and in\n",
    "\n",
    "The in operator checks if a substring is in a string. It returns a boolean.\n",
    "\n",
    "    'substring' in 'string'\n",
    "    \n",
    "**Hint** case matters"
   ]
  },
  {
   "cell_type": "code",
   "execution_count": 15,
   "metadata": {
    "collapsed": false
   },
   "outputs": [
    {
     "name": "stdout",
     "output_type": "stream",
     "text": [
      "Cat in zodiac:\n",
      "False\n",
      "Dragon in zodiac:\n",
      "True\n"
     ]
    }
   ],
   "source": [
    "print('Cat in zodiac:') \n",
    "print('Cat' in chinese_zodiac)\n",
    "\n",
    "print('Dragon in zodiac:')\n",
    "print('Dragon' in chinese_zodiac)"
   ]
  },
  {
   "cell_type": "markdown",
   "metadata": {},
   "source": [
    "## Looping through strings\n",
    "\n",
    "You can loop through each character in a string using a for loop (or a while loop, but that is more straightforward)\n",
    "\n",
    "    for character in string:\n",
    "        print character"
   ]
  },
  {
   "cell_type": "code",
   "execution_count": 16,
   "metadata": {
    "collapsed": false
   },
   "outputs": [
    {
     "name": "stdout",
     "output_type": "stream",
     "text": [
      "R\n",
      "a\n",
      "t\n"
     ]
    }
   ],
   "source": [
    "for character in 'Rat':\n",
    "    print(character)"
   ]
  },
  {
   "cell_type": "code",
   "execution_count": 17,
   "metadata": {
    "collapsed": false
   },
   "outputs": [
    {
     "name": "stdout",
     "output_type": "stream",
     "text": [
      "A\n",
      "E\n",
      "I\n",
      "O\n",
      "U\n",
      "Y\n"
     ]
    }
   ],
   "source": [
    "# Print only vowels\n",
    "for letter in 'ABCDEFGHIJKLMNOPQRSTUVWXYZ':\n",
    "    if letter in 'AEIOUY':\n",
    "        print(letter)"
   ]
  },
  {
   "cell_type": "markdown",
   "metadata": {},
   "source": [
    "### TRY IT\n",
    "Loop through the chinese zodiac characters, printing only letters that are in you name"
   ]
  },
  {
   "cell_type": "code",
   "execution_count": 24,
   "metadata": {
    "collapsed": false
   },
   "outputs": [
    {
     "name": "stdout",
     "output_type": "stream",
     "text": [
      "R\n",
      "A\n",
      "T\n",
      "O\n",
      "T\n",
      "E\n",
      "R\n",
      "R\n",
      "A\n",
      "T\n",
      "R\n",
      "A\n",
      "O\n",
      "A\n",
      "E\n",
      "H\n",
      "O\n",
      "R\n",
      "E\n",
      "O\n",
      "A\n",
      "T\n",
      "O\n",
      "E\n",
      "R\n",
      "O\n",
      "O\n",
      "T\n",
      "E\n",
      "R\n",
      "O\n"
     ]
    }
   ],
   "source": [
    "for letter in chinese_zodiac.upper():\n",
    "    if letter in \"CHARLOTE\":\n",
    "        print(letter)"
   ]
  },
  {
   "cell_type": "markdown",
   "metadata": {},
   "source": [
    "## String Comparison\n",
    "\n",
    "You can compare strings using the `==`, `>`, `>=`, `<`, and `<=` operators. \n",
    "\n",
    "Numbers come first, then capital letters and then lowercase letters. They are actually sorted based on their ascii value http://ascii.cl/"
   ]
  },
  {
   "cell_type": "code",
   "execution_count": 20,
   "metadata": {
    "collapsed": false
   },
   "outputs": [
    {
     "name": "stdout",
     "output_type": "stream",
     "text": [
      "False\n",
      "True\n",
      "False\n",
      "False\n"
     ]
    }
   ],
   "source": [
    "print('A' > 'a')\n",
    "print('A' < 'a')\n",
    "print('A' > 'B')\n",
    "print('0' > 'A')"
   ]
  },
  {
   "cell_type": "code",
   "execution_count": 21,
   "metadata": {
    "collapsed": false
   },
   "outputs": [
    {
     "name": "stdout",
     "output_type": "stream",
     "text": [
      "False\n",
      "True\n"
     ]
    }
   ],
   "source": [
    "# Case matters in equality\n",
    "print('cat' == 'Cat')\n",
    "print('cat' == 'cat')"
   ]
  },
  {
   "cell_type": "markdown",
   "metadata": {},
   "source": [
    "## String Methods\n",
    "There are several built in methods you can use on your strings. To find them all use dir(str). \n",
    "\n",
    "    'my string'.method_name(params)"
   ]
  },
  {
   "cell_type": "code",
   "execution_count": 22,
   "metadata": {
    "collapsed": false
   },
   "outputs": [
    {
     "data": {
      "text/plain": [
       "['__add__',\n",
       " '__class__',\n",
       " '__contains__',\n",
       " '__delattr__',\n",
       " '__dir__',\n",
       " '__doc__',\n",
       " '__eq__',\n",
       " '__format__',\n",
       " '__ge__',\n",
       " '__getattribute__',\n",
       " '__getitem__',\n",
       " '__getnewargs__',\n",
       " '__gt__',\n",
       " '__hash__',\n",
       " '__init__',\n",
       " '__iter__',\n",
       " '__le__',\n",
       " '__len__',\n",
       " '__lt__',\n",
       " '__mod__',\n",
       " '__mul__',\n",
       " '__ne__',\n",
       " '__new__',\n",
       " '__reduce__',\n",
       " '__reduce_ex__',\n",
       " '__repr__',\n",
       " '__rmod__',\n",
       " '__rmul__',\n",
       " '__setattr__',\n",
       " '__sizeof__',\n",
       " '__str__',\n",
       " '__subclasshook__',\n",
       " 'capitalize',\n",
       " 'casefold',\n",
       " 'center',\n",
       " 'count',\n",
       " 'encode',\n",
       " 'endswith',\n",
       " 'expandtabs',\n",
       " 'find',\n",
       " 'format',\n",
       " 'format_map',\n",
       " 'index',\n",
       " 'isalnum',\n",
       " 'isalpha',\n",
       " 'isdecimal',\n",
       " 'isdigit',\n",
       " 'isidentifier',\n",
       " 'islower',\n",
       " 'isnumeric',\n",
       " 'isprintable',\n",
       " 'isspace',\n",
       " 'istitle',\n",
       " 'isupper',\n",
       " 'join',\n",
       " 'ljust',\n",
       " 'lower',\n",
       " 'lstrip',\n",
       " 'maketrans',\n",
       " 'partition',\n",
       " 'replace',\n",
       " 'rfind',\n",
       " 'rindex',\n",
       " 'rjust',\n",
       " 'rpartition',\n",
       " 'rsplit',\n",
       " 'rstrip',\n",
       " 'split',\n",
       " 'splitlines',\n",
       " 'startswith',\n",
       " 'strip',\n",
       " 'swapcase',\n",
       " 'title',\n",
       " 'translate',\n",
       " 'upper',\n",
       " 'zfill']"
      ]
     },
     "execution_count": 22,
     "metadata": {},
     "output_type": "execute_result"
    }
   ],
   "source": [
    "dir(chinese_zodiac)"
   ]
  },
  {
   "cell_type": "markdown",
   "metadata": {},
   "source": [
    "lower, upper, title, capitalize, and swapcase all change the case of the string\n",
    "\n",
    "HINT: use one of these methods to transform input to functions so that you don't have to worry about what case the user's input is in "
   ]
  },
  {
   "cell_type": "code",
   "execution_count": 23,
   "metadata": {
    "collapsed": false
   },
   "outputs": [
    {
     "name": "stdout",
     "output_type": "stream",
     "text": [
      "rat ox tiger rabbit dragon snake horse goat monkey rooster dog pig\n",
      "RAT OX TIGER RABBIT DRAGON SNAKE HORSE GOAT MONKEY ROOSTER DOG PIG\n"
     ]
    }
   ],
   "source": [
    "print(chinese_zodiac.lower())\n",
    "print(chinese_zodiac.upper())"
   ]
  },
  {
   "cell_type": "markdown",
   "metadata": {},
   "source": [
    "The `split` method slices the string into a list  \n",
    "It takes one parameter, the character(s) to split on\n",
    "\n",
    "    my_str.split(slice_string)\n",
    "\n",
    "And the `join` method merges a list into a string\n",
    "It operates on the 'glue' string, and the list is the parameter\n",
    "\n",
    "    glue_string.join(my_list)"
   ]
  },
  {
   "cell_type": "code",
   "execution_count": 25,
   "metadata": {
    "collapsed": false
   },
   "outputs": [
    {
     "name": "stdout",
     "output_type": "stream",
     "text": [
      "['Rat', 'Ox', 'Tiger', 'Rabbit', 'Dragon', 'Snake', 'Horse', 'Goat', 'Monkey', 'Rooster', 'Dog', 'Pig']\n",
      "Rat, Ox, Tiger, Rabbit, Dragon, Snake, Horse, Goat, Monkey, Rooster, Dog, Pig\n"
     ]
    }
   ],
   "source": [
    "cz_list = chinese_zodiac.split(' ')\n",
    "print(cz_list)\n",
    "\n",
    "print(', '.join(cz_list))"
   ]
  },
  {
   "cell_type": "markdown",
   "metadata": {},
   "source": [
    "The `find` method finds the index of a substring (and -1 if it doesn't exist) (_Why -1 and not 0?_)\n",
    "\n",
    "`count` counts the occurrence of a substring\n",
    "\n",
    "`startswith` and `endswith` checks if a string starts or ends with a given substring and returns a boolean"
   ]
  },
  {
   "cell_type": "code",
   "execution_count": 26,
   "metadata": {
    "collapsed": false
   },
   "outputs": [
    {
     "name": "stdout",
     "output_type": "stream",
     "text": [
      "27\n",
      "2\n",
      "True\n"
     ]
    }
   ],
   "source": [
    "print(chinese_zodiac.find('Snake'))\n",
    "\n",
    "print(chinese_zodiac.count('at'))\n",
    "\n",
    "print(chinese_zodiac.startswith('Ra'))"
   ]
  },
  {
   "cell_type": "markdown",
   "metadata": {},
   "source": [
    "You can chain some string methods if the method also returns a string"
   ]
  },
  {
   "cell_type": "code",
   "execution_count": 27,
   "metadata": {
    "collapsed": false
   },
   "outputs": [
    {
     "name": "stdout",
     "output_type": "stream",
     "text": [
      "True\n"
     ]
    }
   ],
   "source": [
    "print(''.join(cz_list)\n",
    "      .lower()\n",
    "      .startswith('ra'))"
   ]
  },
  {
   "cell_type": "markdown",
   "metadata": {},
   "source": [
    "### TRY IT\n",
    "Change the case of your elements string to upper case and then split the result on spaces (' ')\n",
    "\n",
    "** Challenge ** do this by chaining string methods"
   ]
  },
  {
   "cell_type": "code",
   "execution_count": 31,
   "metadata": {
    "collapsed": false
   },
   "outputs": [
    {
     "name": "stdout",
     "output_type": "stream",
     "text": [
      "['WOOD', 'FIRE', 'EARTH', 'METAL', 'WATER']\n"
     ]
    },
    {
     "data": {
      "text/plain": [
       "['WOOD', 'FIRE', 'EARTH', 'METAL', 'WATER']"
      ]
     },
     "execution_count": 31,
     "metadata": {},
     "output_type": "execute_result"
    }
   ],
   "source": [
    "upper_el = elements.upper()\n",
    "\n",
    "el_list = upper_el.split(\" \")\n",
    "print(el_list)\n",
    "\n",
    "elements.upper().split(\" \")"
   ]
  },
  {
   "cell_type": "markdown",
   "metadata": {},
   "source": [
    "## Parsing Strings\n",
    "\n",
    "You can use string methods and indexing to get exactly the substring you want."
   ]
  },
  {
   "cell_type": "code",
   "execution_count": 32,
   "metadata": {
    "collapsed": false
   },
   "outputs": [
    {
     "name": "stdout",
     "output_type": "stream",
     "text": [
      "Ox Tiger Rabbit Dragon Snake Horse Goat \n"
     ]
    }
   ],
   "source": [
    "# Lets find the zodiac animals between Ox and Monkey\n",
    "ox_idx = chinese_zodiac.find('Ox')\n",
    "monkey_idx = chinese_zodiac.find('Monkey')\n",
    "\n",
    "print(chinese_zodiac[ox_idx:monkey_idx])"
   ]
  },
  {
   "cell_type": "code",
   "execution_count": 33,
   "metadata": {
    "collapsed": false
   },
   "outputs": [
    {
     "name": "stdout",
     "output_type": "stream",
     "text": [
      "Tiger Rabbit Dragon Snake Horse Goat \n"
     ]
    }
   ],
   "source": [
    "# Wait, I wanted to exclude Ox\n",
    "ox_end = ox_idx + len('Ox ')\n",
    "print(chinese_zodiac[ox_end:monkey_idx])"
   ]
  },
  {
   "cell_type": "markdown",
   "metadata": {},
   "source": [
    "### TRY IT\n",
    "Use string parsing strategies to extract the host name (in this case gmail) from the email address. (And no, just counting, doesn't count)"
   ]
  },
  {
   "cell_type": "code",
   "execution_count": 40,
   "metadata": {
    "collapsed": false
   },
   "outputs": [
    {
     "name": "stdout",
     "output_type": "stream",
     "text": [
      "gmail\n"
     ]
    }
   ],
   "source": [
    "email = 'my.name@gmail.com'\n",
    "at_idx = email.find('@')\n",
    "# host_site = email[at_idx+1:]\n",
    "# print(host_site)\n",
    "# dot_idx = host_site.find('.')\n",
    "# print(host_site[:dot_idx])\n",
    "dot_idx = email.find('.', at_idx)\n",
    "\n",
    "\n",
    "print(email[at_idx + 1:dot_idx])"
   ]
  },
  {
   "cell_type": "markdown",
   "metadata": {},
   "source": [
    "## Formatting\n",
    "\n",
    "String concatenation gets old really fast, and casting numbers and booleans as strings does too. Luckily, there is a better option.\n",
    "\n",
    "String formatting allows you to include variables directly in you string.\n",
    "    \n",
    "    'string {var} '.format(var1)\n",
    "\n",
    "Each parameter passed to format has an index and can be accessed in the string using {idx}. They don't have to be in order and can be repeated"
   ]
  },
  {
   "cell_type": "code",
   "execution_count": 41,
   "metadata": {
    "collapsed": false
   },
   "outputs": [
    {
     "name": "stdout",
     "output_type": "stream",
     "text": [
      "The ox has 4 toes per limb and thus is considered yin\n",
      "The tiger has 5 toes per limb and thus is considered yang\n"
     ]
    }
   ],
   "source": [
    "print('The {0} has {1} toes per limb and thus is considered {2}'.format('ox', 4, 'yin'))\n",
    "print('The {0} has {1} toes per limb and thus is considered {2}'.format('tiger', 5, 'yang'))\n",
    "\n",
    "# I learned something when creating this notebook"
   ]
  },
  {
   "cell_type": "markdown",
   "metadata": {},
   "source": [
    "You don't have to put the elements in the correct order"
   ]
  },
  {
   "cell_type": "code",
   "execution_count": 42,
   "metadata": {
    "collapsed": false
   },
   "outputs": [
    {
     "name": "stdout",
     "output_type": "stream",
     "text": [
      "The 4 has ox toes per limb and thus is considered yin\n",
      "The yang has yang toes per limb and thus is considered yang\n"
     ]
    }
   ],
   "source": [
    "print('The {1} has {0} toes per limb and thus is considered {2}'.format('ox', 4, 'yin'))\n",
    "print('The {2} has {2} toes per limb and thus is considered {2}'.format('tiger', 5, 'yang'))"
   ]
  },
  {
   "cell_type": "markdown",
   "metadata": {},
   "source": [
    "You can also use variable names. In the parameters use a dictionary (you'll learn about these soon) or key=value syntax."
   ]
  },
  {
   "cell_type": "code",
   "execution_count": 43,
   "metadata": {
    "collapsed": false
   },
   "outputs": [
    {
     "data": {
      "text/plain": [
       "\"The snake's attribute is flexibility\""
      ]
     },
     "execution_count": 43,
     "metadata": {},
     "output_type": "execute_result"
    }
   ],
   "source": [
    "\"The {animal}'s attribute is {attribute}\".format(animal='snake', attribute='flexibility')"
   ]
  },
  {
   "cell_type": "markdown",
   "metadata": {},
   "source": [
    "You can even format the variables in various ways. Reference the docs for everything, there is just too much you can do and I only have so much time to show you.\n",
    "\n",
    "https://docs.python.org/3.4/library/string.html"
   ]
  },
  {
   "cell_type": "code",
   "execution_count": 44,
   "metadata": {
    "collapsed": false
   },
   "outputs": [
    {
     "name": "stdout",
     "output_type": "stream",
     "text": [
      "left aligned                  \n",
      "                 right aligned\n",
      "3.14; -3.1400000\n"
     ]
    }
   ],
   "source": [
    "print('{:<30}'.format('left aligned'))\n",
    "print('{:>30}'.format('right aligned'))\n",
    "print('{:0.2f}; {:0.7f}'.format(3.14, -3.14)) "
   ]
  },
  {
   "cell_type": "markdown",
   "metadata": {},
   "source": [
    "### TRY IT\n",
    "Use string formatting to make a sentence \"[Your name] finds string formatting [difficulty level]\""
   ]
  },
  {
   "cell_type": "code",
   "execution_count": 45,
   "metadata": {
    "collapsed": false
   },
   "outputs": [
    {
     "data": {
      "text/plain": [
       "'Charlotte finds string formatting alright'"
      ]
     },
     "execution_count": 45,
     "metadata": {},
     "output_type": "execute_result"
    }
   ],
   "source": [
    "\"{0} finds string formatting {1}\".format(\"Charlotte\", \"alright\")"
   ]
  },
  {
   "cell_type": "markdown",
   "metadata": {},
   "source": [
    "# PROJECT: DNA EXTRAVAGANZA\n",
    "\n",
    "You are going to create a program that does some very simple bioinformatics functions on a DNA input.\n",
    "\n",
    "## Background\n",
    "A little bit of molecular biology. Codons are non-overlapping triplets of nucleotides. \n",
    "\n",
    "    ATG CCC CTG GTA ... - this corresponds to four codons; spaces added for emphasis\n",
    "\n",
    "The start codon is 'ATG'\n",
    "\n",
    "Stop codons can be 'TGA' , 'TAA', or 'TAG', but they must be 'in frame' with the start codon. The first stop codon usually determines the end of the gene. \n",
    "In other words:\n",
    "\n",
    "    'ATGCCTGA...' - here TGA is not a stop codon, because the T is part of CCT\n",
    "    'ATGCCTTGA...' - here TGA is a stop codon because it is in frame (i.e. a multiple of 3 nucleic acids from ATG)\n",
    "\n",
    "The gene is start codon to stop codon, inclusive \n",
    "Example:\n",
    "\n",
    "    dna - GGCATGAAAGTCAGGGCAGAGCCATCTATTTGAGCTTAC\n",
    "    gene - ATGAAAGTCAGGGCAGAGCCATCTATTTGA\n",
    "\n",
    "## Instructions\n",
    "1. Write a function called `numCodons` that takes a dna string and returns to you how many codons are in it (a codon is a group of 3 DNA bases). Examples: AAACCC -> 2  GT -> 0\n",
    "2. Write a function called `startCodonIndex` which finds the index of the first start codon 'ATG' and returns -1 if none are found.\n",
    "3. Write a function called `stopCodonIndex` which finds the index of the first stop codon 'TAA' or 'TAG' or 'TGA' in frame with the start codon (found from `startCodonIndex`) and returns -1 if none are found.\n",
    "4. Write a function called `codingDNA` which returns the substring of the DNA from the beginning of the start codon to the end of the stop codon (please for the love of all things, use the functions you already wrote to calculate start and stop)\n",
    "5. Write a function called `transcription` that takes the DNA and translates it to RNA. Each letter should be translated using these mappings (A->U), (T->A), (C->G), (G->C).\n",
    "6. Write a function called `DNAExtravaganza` that calls your functions and prints out (using string formatting)\n",
    "\n",
    "    DNA: [DNA]\n",
    "    \n",
    "    CODONS: [Number of codons]\n",
    "    \n",
    "    START: [start index]\n",
    "    \n",
    "    STOP: [stop index]\n",
    "    \n",
    "    CODING DNA: [coding DNA string]\n",
    "    \n",
    "    TRANSCRIBED RNA: [transcribed DNA]\n",
    "    \n",
    "\n",
    "You can use these as test DNA string:\n",
    "  \n",
    "       dna='GGCATGAAAGTCAGGGCAGAGCCATCTATTGCTTACATTTGCTTCTGACACAACTGTGTTCACTAGCAACCTCAAACAGACACCATGGTGCACCTGACTCCTGAGGAGAAGTCTGCCGTTACTGCCCTGTGGGGCAAGGTGAACGTGGATGAAGTTGGTGGTGAGGCCCTGGGCAGGTTGGTATCAAGGTTACAAGACAGGTTTAAGGAGACCAATAGAAACTGGGCATGTGGAGACAGAGAAGACTCTTGGGTTTCTGATAGGCACTGACTCTCTCTGCCTATTGGTCTATTTTCCCACCCTTAGGCTGCTGGTGGTCTACCCTTGGACCCAGAGGTTCTTTGAGTCCTTTGGGGATCTGTCCACTCCTGATGCTGTTATGGGCAACCCTAAGGTGAAGGCTCATGGCAAGAAAGTGCTCGGTGCCTTTAGTGATGGCCTGGCTCACCTGGACAACCTCAAGGGCACCTTTGCCACACTGAGTGAGCTGCACTGTGACAAGCTGCACGTGGATCCTGAGAACTTCAGGGTGAGTCTATGGGACCCTTGATGTTTTCTTTCCCCTTCTTTTCTATGGTTAAGTTCATGTCATAGGAAGGGGAGAAGTAACAGGGTACAGTTTAGAATGGGAAACAGACGAATGATT'\n",
    "        \n",
    "        dna = 'GGGATGTTTGGGCCCTACGGGCCCTGATCGGCT'\n"
   ]
  },
  {
   "cell_type": "code",
   "execution_count": null,
   "metadata": {
    "collapsed": true
   },
   "outputs": [],
   "source": []
  }
 ],
 "metadata": {
  "anaconda-cloud": {},
  "kernelspec": {
   "display_name": "Python 3",
   "language": "python",
   "name": "python3"
  },
  "language_info": {
   "codemirror_mode": {
    "name": "ipython",
    "version": 3
   },
   "file_extension": ".py",
   "mimetype": "text/x-python",
   "name": "python",
   "nbconvert_exporter": "python",
   "pygments_lexer": "ipython3",
   "version": "3.5.2"
  }
 },
 "nbformat": 4,
 "nbformat_minor": 0
}
