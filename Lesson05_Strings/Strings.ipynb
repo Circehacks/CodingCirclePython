{
 "cells": [
  {
   "cell_type": "markdown",
   "metadata": {},
   "source": [
    "# Strings\n",
    "\n",
    "A sting is a sequence of characters. A string's characters can be treated similarly to a list. Each character has an index starting at 0 and can be accessed just like a list\n",
    "\n",
    "    my_str = \"M y   S t r i n g\"\n",
    "    #index    0 1 2 3 4 5 6 7 8\n",
    "    \n",
    "    print my_str[0]\n"
   ]
  },
  {
   "cell_type": "code",
   "execution_count": 1,
   "metadata": {
    "collapsed": false
   },
   "outputs": [
    {
     "name": "stdout",
     "output_type": "stream",
     "text": [
      "R\n",
      "a\n"
     ]
    }
   ],
   "source": [
    "chinese_zodiac = \"Rat Ox Tiger Rabbit Dragon Snake Horse Goat Monkey Rooster Dog Pig\"\n",
    "print chinese_zodiac[0]\n",
    "print chinese_zodiac[1]"
   ]
  },
  {
   "cell_type": "markdown",
   "metadata": {},
   "source": [
    "### TRY IT\n",
    "Create a string with the 5 elements of the chinese zodiac (wood fire earth metal water) and store it in a variable called elements. Get the 4th letter of elements."
   ]
  },
  {
   "cell_type": "code",
   "execution_count": 2,
   "metadata": {
    "collapsed": false
   },
   "outputs": [
    {
     "name": "stdout",
     "output_type": "stream",
     "text": [
      "d\n"
     ]
    }
   ],
   "source": [
    "elements = 'wood fire earth metal water'\n",
    "print elements[3]"
   ]
  },
  {
   "cell_type": "markdown",
   "metadata": {},
   "source": [
    "You can get the length (number of characters) of a string by using the len operator\n",
    "\n",
    "    len(my_string)"
   ]
  },
  {
   "cell_type": "code",
   "execution_count": 3,
   "metadata": {
    "collapsed": false
   },
   "outputs": [
    {
     "name": "stdout",
     "output_type": "stream",
     "text": [
      "66\n"
     ]
    }
   ],
   "source": [
    "print len(chinese_zodiac)"
   ]
  },
  {
   "cell_type": "markdown",
   "metadata": {},
   "source": [
    "Be careful with length, it is the number of characters, not the last index.\n",
    "\n",
    "The last index is len(string) - 1"
   ]
  },
  {
   "cell_type": "code",
   "execution_count": 5,
   "metadata": {
    "collapsed": false
   },
   "outputs": [
    {
     "name": "stdout",
     "output_type": "stream",
     "text": [
      "g\n"
     ]
    }
   ],
   "source": [
    "zlen = len(chinese_zodiac)\n",
    "# WRONG\n",
    "#print chinese_zodiac[zlen]\n",
    "# RIGHT\n",
    "print chinese_zodiac[zlen - 1]"
   ]
  },
  {
   "cell_type": "markdown",
   "metadata": {},
   "source": [
    "But actually you can use negative indexing to get the last character in a string. -1 is last character, -2 is second to last and so on. \n",
    "\n",
    "Wondering why negative indexing starts with -1 and not 0? It's because -0 and 0 are the same thing, so you would just get the first character."
   ]
  },
  {
   "cell_type": "code",
   "execution_count": 6,
   "metadata": {
    "collapsed": false
   },
   "outputs": [
    {
     "name": "stdout",
     "output_type": "stream",
     "text": [
      "g\n"
     ]
    }
   ],
   "source": [
    "print chinese_zodiac[-1]"
   ]
  },
  {
   "cell_type": "markdown",
   "metadata": {},
   "source": [
    "### TRY IT\n",
    "Create a string with you name and store it in a variable called name. Print the last character of your name using both indexing methods (positive or negative)."
   ]
  },
  {
   "cell_type": "code",
   "execution_count": 9,
   "metadata": {
    "collapsed": false
   },
   "outputs": [
    {
     "name": "stdout",
     "output_type": "stream",
     "text": [
      "C\n",
      "e\n"
     ]
    }
   ],
   "source": [
    "name = 'Charlotte'\n",
    "print name[-9]\n",
    "print name[len(name) - 1]"
   ]
  },
  {
   "cell_type": "markdown",
   "metadata": {},
   "source": [
    "### String Slices\n",
    "You can take more than a single character, you can take a whole slice. To take a slice, give the first index and then the last index + 1. (The first index is inclusive, second index is exclusive)\n",
    "\n",
    "    string[0:5]"
   ]
  },
  {
   "cell_type": "code",
   "execution_count": 10,
   "metadata": {
    "collapsed": false
   },
   "outputs": [
    {
     "name": "stdout",
     "output_type": "stream",
     "text": [
      "Ox\n"
     ]
    }
   ],
   "source": [
    "second_animal = chinese_zodiac[4:6]\n",
    "print second_animal"
   ]
  },
  {
   "cell_type": "markdown",
   "metadata": {},
   "source": [
    "You can omit the first index and it will start at the beginning, you can omit the last index and it will go to the end."
   ]
  },
  {
   "cell_type": "code",
   "execution_count": 11,
   "metadata": {
    "collapsed": false
   },
   "outputs": [
    {
     "name": "stdout",
     "output_type": "stream",
     "text": [
      "Rat Ox Tiger Rabbit Dragon Snake\n",
      "Horse Goat Monkey Rooster Dog Pig\n"
     ]
    }
   ],
   "source": [
    "first_six = chinese_zodiac[:32]\n",
    "print first_six\n",
    "\n",
    "last_six = chinese_zodiac[33:]\n",
    "print last_six"
   ]
  },
  {
   "cell_type": "markdown",
   "metadata": {},
   "source": [
    "### TRY IT\n",
    "What happens when you omit both indicies? Try it on the chinese_zodiac."
   ]
  },
  {
   "cell_type": "code",
   "execution_count": 12,
   "metadata": {
    "collapsed": false
   },
   "outputs": [
    {
     "name": "stdout",
     "output_type": "stream",
     "text": [
      "Rat Ox Tiger Rabbit Dragon Snake Horse Goat Monkey Rooster Dog Pig\n"
     ]
    }
   ],
   "source": [
    "print chinese_zodiac[:]"
   ]
  },
  {
   "cell_type": "markdown",
   "metadata": {},
   "source": [
    "## Immutable strings\n",
    "\n",
    "Strings are immutable. You cannot change their contents, you must make a new string."
   ]
  },
  {
   "cell_type": "code",
   "execution_count": 13,
   "metadata": {
    "collapsed": false
   },
   "outputs": [
    {
     "ename": "TypeError",
     "evalue": "'str' object does not support item assignment",
     "output_type": "error",
     "traceback": [
      "\u001b[0;31m---------------------------------------------------------------------------\u001b[0m",
      "\u001b[0;31mTypeError\u001b[0m                                 Traceback (most recent call last)",
      "\u001b[0;32m<ipython-input-13-14192b208e65>\u001b[0m in \u001b[0;36m<module>\u001b[0;34m()\u001b[0m\n\u001b[1;32m      1\u001b[0m \u001b[0;31m# This will fail\u001b[0m\u001b[0;34m\u001b[0m\u001b[0;34m\u001b[0m\u001b[0m\n\u001b[0;32m----> 2\u001b[0;31m \u001b[0mchinese_zodiac\u001b[0m\u001b[0;34m[\u001b[0m\u001b[0;36m0\u001b[0m\u001b[0;34m]\u001b[0m \u001b[0;34m=\u001b[0m \u001b[0;34m'A'\u001b[0m\u001b[0;34m\u001b[0m\u001b[0m\n\u001b[0m",
      "\u001b[0;31mTypeError\u001b[0m: 'str' object does not support item assignment"
     ]
    }
   ],
   "source": [
    "# This will fail\n",
    "chinese_zodiac[0] = 'A'"
   ]
  },
  {
   "cell_type": "code",
   "execution_count": 14,
   "metadata": {
    "collapsed": false
   },
   "outputs": [
    {
     "name": "stdout",
     "output_type": "stream",
     "text": [
      "Cat Ox Tiger Rabbit Dragon Snake Horse Goat Monkey Rooster Dog Pig\n"
     ]
    }
   ],
   "source": [
    "# This is better\n",
    "ate_the_rat = \"C\" + chinese_zodiac[1:]\n",
    "print ate_the_rat"
   ]
  },
  {
   "cell_type": "markdown",
   "metadata": {},
   "source": [
    "## Strings and in\n",
    "\n",
    "The in operator checks if a substring is in a string. It returns a boolean.\n",
    "\n",
    "    'substring' in 'string'\n",
    "    \n",
    "**Hint** case matters"
   ]
  },
  {
   "cell_type": "code",
   "execution_count": 15,
   "metadata": {
    "collapsed": false
   },
   "outputs": [
    {
     "name": "stdout",
     "output_type": "stream",
     "text": [
      "Cat in zodiac:\n",
      "False\n",
      "Dragon in zodiac:\n",
      "True\n"
     ]
    }
   ],
   "source": [
    "print 'Cat in zodiac:' \n",
    "print 'Cat' in chinese_zodiac\n",
    "\n",
    "print 'Dragon in zodiac:'\n",
    "print 'Dragon' in chinese_zodiac"
   ]
  },
  {
   "cell_type": "markdown",
   "metadata": {},
   "source": [
    "## Looping through strings\n",
    "\n",
    "You can loop through each character in a string using a for loop (or a while loop, but that is more straightforward)\n",
    "\n",
    "    for character in string:\n",
    "        print character"
   ]
  },
  {
   "cell_type": "code",
   "execution_count": 16,
   "metadata": {
    "collapsed": false
   },
   "outputs": [
    {
     "name": "stdout",
     "output_type": "stream",
     "text": [
      "R\n",
      "a\n",
      "t\n"
     ]
    }
   ],
   "source": [
    "for character in 'Rat':\n",
    "    print character"
   ]
  },
  {
   "cell_type": "code",
   "execution_count": 17,
   "metadata": {
    "collapsed": false
   },
   "outputs": [
    {
     "name": "stdout",
     "output_type": "stream",
     "text": [
      "A\n",
      "E\n",
      "I\n",
      "O\n",
      "U\n",
      "Y\n"
     ]
    }
   ],
   "source": [
    "# Print only vowels\n",
    "for letter in 'ABCDEFGHIJKLMNOPQRSTUVWXYZ':\n",
    "    if letter in 'AEIOUY':\n",
    "        print letter"
   ]
  },
  {
   "cell_type": "markdown",
   "metadata": {},
   "source": [
    "### TRY IT\n",
    "Loop through the chinese zodiac characters, printing only letters that are in you name"
   ]
  },
  {
   "cell_type": "code",
   "execution_count": 18,
   "metadata": {
    "collapsed": false
   },
   "outputs": [
    {
     "name": "stdout",
     "output_type": "stream",
     "text": [
      "R\n",
      "a\n",
      "t\n",
      "O\n",
      "T\n",
      "e\n",
      "r\n",
      "R\n",
      "a\n",
      "t\n",
      "r\n",
      "a\n",
      "o\n",
      "a\n",
      "e\n",
      "H\n",
      "o\n",
      "r\n",
      "e\n",
      "o\n",
      "a\n",
      "t\n",
      "o\n",
      "e\n",
      "R\n",
      "o\n",
      "o\n",
      "t\n",
      "e\n",
      "r\n",
      "o\n"
     ]
    }
   ],
   "source": [
    "for letter in chinese_zodiac:\n",
    "    if letter in 'CHARLOTTEcharlotte':\n",
    "        print letter"
   ]
  },
  {
   "cell_type": "markdown",
   "metadata": {},
   "source": [
    "## String Comparison\n",
    "\n",
    "You can compare strings using the `==`, `>`, `>=`, `<`, and `<=` operators. \n",
    "\n",
    "Numbers come first, then capital letters and then lowercase letters. They are actually sorted based on their ascii value http://ascii.cl/"
   ]
  },
  {
   "cell_type": "code",
   "execution_count": 20,
   "metadata": {
    "collapsed": false
   },
   "outputs": [
    {
     "name": "stdout",
     "output_type": "stream",
     "text": [
      "False\n",
      "True\n",
      "False\n",
      "False\n"
     ]
    }
   ],
   "source": [
    "print 'A' > 'a'\n",
    "print 'A' < 'a'\n",
    "print 'A' > 'B'\n",
    "print '0' > 'A'"
   ]
  },
  {
   "cell_type": "code",
   "execution_count": 19,
   "metadata": {
    "collapsed": false
   },
   "outputs": [
    {
     "name": "stdout",
     "output_type": "stream",
     "text": [
      "False\n",
      "True\n"
     ]
    }
   ],
   "source": [
    "# Case matters in equality\n",
    "print 'cat' == 'Cat'\n",
    "print 'cat' == 'cat'"
   ]
  },
  {
   "cell_type": "markdown",
   "metadata": {},
   "source": [
    "## String Methods\n",
    "There are several built in methods you can use on your strings. To find them all use dir(str). \n",
    "\n",
    "    'my string'.method_name(params)"
   ]
  },
  {
   "cell_type": "code",
   "execution_count": 21,
   "metadata": {
    "collapsed": false
   },
   "outputs": [
    {
     "data": {
      "text/plain": [
       "['__add__',\n",
       " '__class__',\n",
       " '__contains__',\n",
       " '__delattr__',\n",
       " '__doc__',\n",
       " '__eq__',\n",
       " '__format__',\n",
       " '__ge__',\n",
       " '__getattribute__',\n",
       " '__getitem__',\n",
       " '__getnewargs__',\n",
       " '__getslice__',\n",
       " '__gt__',\n",
       " '__hash__',\n",
       " '__init__',\n",
       " '__le__',\n",
       " '__len__',\n",
       " '__lt__',\n",
       " '__mod__',\n",
       " '__mul__',\n",
       " '__ne__',\n",
       " '__new__',\n",
       " '__reduce__',\n",
       " '__reduce_ex__',\n",
       " '__repr__',\n",
       " '__rmod__',\n",
       " '__rmul__',\n",
       " '__setattr__',\n",
       " '__sizeof__',\n",
       " '__str__',\n",
       " '__subclasshook__',\n",
       " '_formatter_field_name_split',\n",
       " '_formatter_parser',\n",
       " 'capitalize',\n",
       " 'center',\n",
       " 'count',\n",
       " 'decode',\n",
       " 'encode',\n",
       " 'endswith',\n",
       " 'expandtabs',\n",
       " 'find',\n",
       " 'format',\n",
       " 'index',\n",
       " 'isalnum',\n",
       " 'isalpha',\n",
       " 'isdigit',\n",
       " 'islower',\n",
       " 'isspace',\n",
       " 'istitle',\n",
       " 'isupper',\n",
       " 'join',\n",
       " 'ljust',\n",
       " 'lower',\n",
       " 'lstrip',\n",
       " 'partition',\n",
       " 'replace',\n",
       " 'rfind',\n",
       " 'rindex',\n",
       " 'rjust',\n",
       " 'rpartition',\n",
       " 'rsplit',\n",
       " 'rstrip',\n",
       " 'split',\n",
       " 'splitlines',\n",
       " 'startswith',\n",
       " 'strip',\n",
       " 'swapcase',\n",
       " 'title',\n",
       " 'translate',\n",
       " 'upper',\n",
       " 'zfill']"
      ]
     },
     "execution_count": 21,
     "metadata": {},
     "output_type": "execute_result"
    }
   ],
   "source": [
    "dir(chinese_zodiac)"
   ]
  },
  {
   "cell_type": "markdown",
   "metadata": {},
   "source": [
    "lower, upper, title, capitalize, and swapcase all change the case of the string\n",
    "\n",
    "HINT: use one of these methods to transform input to functions so that you don't have to worry about what case the user's input is in "
   ]
  },
  {
   "cell_type": "code",
   "execution_count": 22,
   "metadata": {
    "collapsed": false
   },
   "outputs": [
    {
     "name": "stdout",
     "output_type": "stream",
     "text": [
      "rat ox tiger rabbit dragon snake horse goat monkey rooster dog pig\n",
      "RAT OX TIGER RABBIT DRAGON SNAKE HORSE GOAT MONKEY ROOSTER DOG PIG\n"
     ]
    }
   ],
   "source": [
    "print chinese_zodiac.lower()\n",
    "print chinese_zodiac.upper()"
   ]
  },
  {
   "cell_type": "markdown",
   "metadata": {},
   "source": [
    "Split slices the string into a list  \n",
    "It takes one parameter, the character(s) to split on\n",
    "\n",
    "And join merges a list into a string\n",
    "It operates on the 'glue' string, and the list is the parameter"
   ]
  },
  {
   "cell_type": "code",
   "execution_count": 24,
   "metadata": {
    "collapsed": false
   },
   "outputs": [
    {
     "name": "stdout",
     "output_type": "stream",
     "text": [
      "['Rat', 'Ox', 'Tiger', 'Rabbit', 'Dragon', 'Snake', 'Horse', 'Goat', 'Monkey', 'Rooster', 'Dog', 'Pig']\n",
      "Rat, Ox, Tiger, Rabbit, Dragon, Snake, Horse, Goat, Monkey, Rooster, Dog, Pig\n"
     ]
    }
   ],
   "source": [
    "cz_list = chinese_zodiac.split(' ')\n",
    "print cz_list\n",
    "\n",
    "print ', '.join(cz_list)"
   ]
  },
  {
   "cell_type": "markdown",
   "metadata": {},
   "source": [
    "find, finds the index of a substring (and -1 if it doesn't exist)\n",
    "\n",
    "count counts the occurence of a substring\n",
    "\n",
    "startswith and endswith checks if a string starts or ends with a given substring and returns a boolean"
   ]
  },
  {
   "cell_type": "code",
   "execution_count": 25,
   "metadata": {
    "collapsed": false
   },
   "outputs": [
    {
     "name": "stdout",
     "output_type": "stream",
     "text": [
      "27\n",
      "2\n",
      "True\n"
     ]
    }
   ],
   "source": [
    "print chinese_zodiac.find('Snake')\n",
    "\n",
    "print chinese_zodiac.count('at')\n",
    "\n",
    "print chinese_zodiac.startswith('Ra')"
   ]
  },
  {
   "cell_type": "markdown",
   "metadata": {},
   "source": [
    "You can chain some string methods if the method also returns a string"
   ]
  },
  {
   "cell_type": "code",
   "execution_count": 26,
   "metadata": {
    "collapsed": false
   },
   "outputs": [
    {
     "name": "stdout",
     "output_type": "stream",
     "text": [
      "True\n"
     ]
    }
   ],
   "source": [
    "print ''.join(cz_list).lower().startswith('ra')"
   ]
  },
  {
   "cell_type": "markdown",
   "metadata": {},
   "source": [
    "### TRY IT\n",
    "Change the case of your elements string to upper case and then split the result on spaces (' ')\n",
    "** Challenge ** do this by chaining string methods"
   ]
  },
  {
   "cell_type": "code",
   "execution_count": 30,
   "metadata": {
    "collapsed": false
   },
   "outputs": [
    {
     "name": "stdout",
     "output_type": "stream",
     "text": [
      "['WOOD', 'FIRE', 'EARTH', 'METAL', 'WATER']\n"
     ]
    }
   ],
   "source": [
    "elements.upper().split(' ')\n",
    "elements = elements.upper()\n",
    "print el.split(' ')"
   ]
  },
  {
   "cell_type": "markdown",
   "metadata": {},
   "source": [
    "## Parsing Strings\n",
    "\n",
    "You can use string methods and indexing to get exactly the substring you want."
   ]
  },
  {
   "cell_type": "code",
   "execution_count": 32,
   "metadata": {
    "collapsed": false
   },
   "outputs": [
    {
     "name": "stdout",
     "output_type": "stream",
     "text": [
      "Ox Tiger Rabbit Dragon Snake Horse Goat \n",
      "Tiger Rabbit Dragon Snake Horse Goat \n"
     ]
    }
   ],
   "source": [
    "# Lets find the zodiac animals between Ox and Monkey\n",
    "ox_idx = chinese_zodiac.find('Ox')\n",
    "monkey_idx = chinese_zodiac.find('Monkey')\n",
    "\n",
    "print chinese_zodiac[ox_idx:monkey_idx]\n",
    "\n",
    "# Wait, I wanted to exclude Ox\n",
    "ox_end = ox_idx + len('Ox ')\n",
    "print chinese_zodiac[ox_end:monkey_idx]"
   ]
  },
  {
   "cell_type": "markdown",
   "metadata": {},
   "source": [
    "### TRY IT\n",
    "Use string parsing strategies to extract the host name from the email address. (And no, just counting, doesn't count)"
   ]
  },
  {
   "cell_type": "code",
   "execution_count": 33,
   "metadata": {
    "collapsed": false
   },
   "outputs": [
    {
     "name": "stdout",
     "output_type": "stream",
     "text": [
      "gmail.com\n"
     ]
    }
   ],
   "source": [
    "email = 'my.name@gmail.com'\n",
    "# Your code should print gmail.com\n",
    "at_idx = email.find('@')\n",
    "print email[at_idx + 1:]"
   ]
  },
  {
   "cell_type": "markdown",
   "metadata": {},
   "source": [
    "## Formatting\n",
    "\n",
    "String concatanation gets old really fast, and casting numbers and booleans as strings does too. Luckily, there is a better option.\n",
    "\n",
    "String formatting allows you to include variabls directly in you string.\n",
    "    \n",
    "    'string {var} '.format(var1)\n",
    "\n",
    "Each parameter passed to format has an index and can be accessed in the string using {idx}. They don't have to be in order and can be repeated"
   ]
  },
  {
   "cell_type": "code",
   "execution_count": 34,
   "metadata": {
    "collapsed": false
   },
   "outputs": [
    {
     "name": "stdout",
     "output_type": "stream",
     "text": [
      "string and then 1 and also 2.436526\n",
      "1 and then string and also 2.436526\n",
      "2.436526 and then 2.436526 and also 2.436526\n"
     ]
    }
   ],
   "source": [
    "print '{0} and then {1} and also {2}'.format('string', 1, 2.436526)\n",
    "print '{1} and then {0} and also {2}'.format('string', 1, 2.436526)\n",
    "print '{2} and then {2} and also {2}'.format('string', 1, 2.436526)"
   ]
  },
  {
   "cell_type": "markdown",
   "metadata": {},
   "source": [
    "You can also use variable names. In the parameters use a dictionary (you'll learn about these soon) or key=value syntax."
   ]
  },
  {
   "cell_type": "code",
   "execution_count": 35,
   "metadata": {
    "collapsed": false
   },
   "outputs": [
    {
     "data": {
      "text/plain": [
       "'strawberries goes well in a smoothie'"
      ]
     },
     "execution_count": 35,
     "metadata": {},
     "output_type": "execute_result"
    }
   ],
   "source": [
    "'{fruit} goes well in a {food}'.format(fruit='strawberries', food='smoothie')"
   ]
  },
  {
   "cell_type": "markdown",
   "metadata": {},
   "source": [
    "You can even format the variables in various ways. Reference the docs for everything, there is just too much you can do and I only have so much time to show you."
   ]
  },
  {
   "cell_type": "code",
   "execution_count": 36,
   "metadata": {
    "collapsed": false
   },
   "outputs": [
    {
     "name": "stdout",
     "output_type": "stream",
     "text": [
      "left aligned                  \n",
      "                 right aligned\n",
      "3.14; -3.1400000\n"
     ]
    }
   ],
   "source": [
    "print '{:<30}'.format('left aligned')\n",
    "print '{:>30}'.format('right aligned')\n",
    "print '{:0.2f}; {:0.7f}'.format(3.14, -3.14) "
   ]
  },
  {
   "cell_type": "markdown",
   "metadata": {},
   "source": [
    "### TRY IT\n",
    "Use string formatting to make a sentance \"[Your name] finds string formatting [difficulty level]\""
   ]
  },
  {
   "cell_type": "code",
   "execution_count": 38,
   "metadata": {
    "collapsed": false
   },
   "outputs": [
    {
     "data": {
      "text/plain": [
       "'Charlotte finds string formatting Alright, not so hard but I still have to look it up'"
      ]
     },
     "execution_count": 38,
     "metadata": {},
     "output_type": "execute_result"
    }
   ],
   "source": [
    "\"{name} finds string formatting {level}\".format(name='Charlotte', level='Alright, not so hard but I still have to look it up')"
   ]
  },
  {
   "cell_type": "markdown",
   "metadata": {},
   "source": [
    "# PROJECT: DNA EXTRAVAGANZA\n",
    "\n",
    "You are going to create a program that does some very simple bioinformatics functions on a DNA input.\n",
    "1. Write a function called 'codons' that takes a dna string and returns to you how many codons are in it (a codon is a group of 3 DNA bases). Examples: AAACCC -> 2  GT -> 0\n",
    "2. Write a function called start which finds the index of the start codon 'ATG' \n",
    "3. Write a function called stop which finds the index of the first stop codon 'TAA' or 'TAG' or 'TGA'\n",
    "4. Write a function called gene which returns the substring of the DNA from the beginning of the start codon to the end of the stop codon (please for the love of all things, use the functions you already wrote to calc start and stop)\n",
    "5. Write a function called transcription that takes the DNA and translates it to RNA. Each letter should be translated using these mappings (A->U), (T->A), (C->G), (G->C).\n",
    "6. Write a function called dnaExtravaganza that calls your functions and print out (using string formatting)\n",
    "\n",
    "    DNA: [DNA]\n",
    "    \n",
    "    CODONS: [Number of codons]\n",
    "    \n",
    "    START: [start index]\n",
    "    \n",
    "    STOP: [stop index]\n",
    "    \n",
    "    GENE: [gene DNA string]\n",
    "    \n",
    "    RNA: [transcribed DNA]"
   ]
  },
  {
   "cell_type": "code",
   "execution_count": null,
   "metadata": {
    "collapsed": true
   },
   "outputs": [],
   "source": []
  }
 ],
 "metadata": {
  "kernelspec": {
   "display_name": "Python 2",
   "language": "python",
   "name": "python2"
  },
  "language_info": {
   "codemirror_mode": {
    "name": "ipython",
    "version": 2
   },
   "file_extension": ".py",
   "mimetype": "text/x-python",
   "name": "python",
   "nbconvert_exporter": "python",
   "pygments_lexer": "ipython2",
   "version": "2.7.11"
  }
 },
 "nbformat": 4,
 "nbformat_minor": 0
}
