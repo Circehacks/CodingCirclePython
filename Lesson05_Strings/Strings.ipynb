{
 "cells": [
  {
   "cell_type": "markdown",
   "metadata": {},
   "source": [
    "# Strings\n",
    "\n",
    "A sting is a sequence of characters. A string's characters can be treated similarly to a list. Each character has an index starting at 0 and can be accessed just like a list\n",
    "\n",
    "    my_str = \"M y   S t r i n g\"\n",
    "    #index    0 1 2 3 4 5 6 7 8\n",
    "    \n",
    "    print my_str[0]\n"
   ]
  },
  {
   "cell_type": "code",
   "execution_count": null,
   "metadata": {
    "collapsed": false
   },
   "outputs": [],
   "source": [
    "chinese_zodiac = \"Rat Ox Tiger Rabbit Dragon Snake Horse Goat Monkey Rooster Dog Pig\"\n",
    "print chinese_zodiac[0]\n",
    "print chinese_zodiac[1]"
   ]
  },
  {
   "cell_type": "markdown",
   "metadata": {},
   "source": [
    "### TRY IT\n",
    "Create a string with the 5 elements of the chinese zodiac (wood fire earth metal water) and store it in a variable called elements. Get the 4th letter of elements."
   ]
  },
  {
   "cell_type": "code",
   "execution_count": null,
   "metadata": {
    "collapsed": true
   },
   "outputs": [],
   "source": []
  },
  {
   "cell_type": "markdown",
   "metadata": {},
   "source": [
    "You can get the length (number of characters) of a string by using the len operator\n",
    "\n",
    "    len(my_string)"
   ]
  },
  {
   "cell_type": "code",
   "execution_count": null,
   "metadata": {
    "collapsed": false
   },
   "outputs": [],
   "source": [
    "print len(chinese_zodiac)"
   ]
  },
  {
   "cell_type": "markdown",
   "metadata": {},
   "source": [
    "Be careful with length, it is the number of characters, not the last index.\n",
    "\n",
    "The last index is len(string) - 1"
   ]
  },
  {
   "cell_type": "code",
   "execution_count": null,
   "metadata": {
    "collapsed": false
   },
   "outputs": [],
   "source": [
    "zlen = len(chinese_zodiac)\n",
    "# WRONG\n",
    "print chinese_zodiac[zlen]\n",
    "# RIGHT\n",
    "print chinese_zodiac[zlen - 1]"
   ]
  },
  {
   "cell_type": "markdown",
   "metadata": {},
   "source": [
    "But actually you can use negative indexing to get the last character in a string. -1 is last character, -2 is second to last and so on. \n",
    "\n",
    "Wondering why negative indexing starts with -1 and not 0? It's because -0 and 0 are the same thing, so you would just get the first character."
   ]
  },
  {
   "cell_type": "code",
   "execution_count": null,
   "metadata": {
    "collapsed": false
   },
   "outputs": [],
   "source": [
    "print chinese_zodiac[-1]"
   ]
  },
  {
   "cell_type": "markdown",
   "metadata": {},
   "source": [
    "### TRY IT\n",
    "Create a string with you name and store it in a variable called name. Print the last character of your name using both indexing methods (positive or negative)."
   ]
  },
  {
   "cell_type": "code",
   "execution_count": null,
   "metadata": {
    "collapsed": true
   },
   "outputs": [],
   "source": []
  },
  {
   "cell_type": "markdown",
   "metadata": {},
   "source": [
    "### String Slices\n",
    "You can take more than a single character, you can take a who slice. To take a slice, give the first index and then the last index + 1. (The first index is inclusive, second index is exclusive)\n",
    "\n",
    "    string[0:5]"
   ]
  },
  {
   "cell_type": "code",
   "execution_count": null,
   "metadata": {
    "collapsed": false
   },
   "outputs": [],
   "source": [
    "second_animal = chinese_zodiac[4:6]\n",
    "print second_animal"
   ]
  },
  {
   "cell_type": "markdown",
   "metadata": {},
   "source": [
    "You can omit the first index and it will start at the beginning, you can omit the last index and it will go to the end."
   ]
  },
  {
   "cell_type": "code",
   "execution_count": null,
   "metadata": {
    "collapsed": false
   },
   "outputs": [],
   "source": [
    "first_six = chinese_zodiac[:32]\n",
    "print first_six\n",
    "\n",
    "last_six = chinese_zodiac[33:]\n",
    "print last_six"
   ]
  },
  {
   "cell_type": "markdown",
   "metadata": {},
   "source": [
    "### TRY IT\n",
    "What happens when you omit both indicies? Try it on the chinese_zodiac."
   ]
  },
  {
   "cell_type": "code",
   "execution_count": null,
   "metadata": {
    "collapsed": true
   },
   "outputs": [],
   "source": []
  },
  {
   "cell_type": "markdown",
   "metadata": {},
   "source": [
    "## Immutable strings\n",
    "\n",
    "Strings are immutable. You cannot change their contents, you must make a new string."
   ]
  },
  {
   "cell_type": "code",
   "execution_count": null,
   "metadata": {
    "collapsed": false
   },
   "outputs": [],
   "source": [
    "# This will fail\n",
    "chinese_zodiac[0] = 'A'"
   ]
  },
  {
   "cell_type": "code",
   "execution_count": null,
   "metadata": {
    "collapsed": false
   },
   "outputs": [],
   "source": [
    "# This is better\n",
    "ate_the_rat = \"C\" + chinese_zodiac[1:]\n",
    "print ate_the_rat"
   ]
  },
  {
   "cell_type": "markdown",
   "metadata": {},
   "source": [
    "## Strings and in\n",
    "\n",
    "The in operator checks if a substring is in a string. It returns a boolean.\n",
    "\n",
    "    'substring' in 'string'\n",
    "    \n",
    "**Hint** case matters"
   ]
  },
  {
   "cell_type": "code",
   "execution_count": null,
   "metadata": {
    "collapsed": false
   },
   "outputs": [],
   "source": [
    "print 'Cat in zodiac:' \n",
    "print 'Cat' in chinese_zodiac\n",
    "\n",
    "print 'Dragon in zodiac:'\n",
    "print 'Dragon' in chinese_zodiac"
   ]
  },
  {
   "cell_type": "markdown",
   "metadata": {},
   "source": [
    "## Looping through strings\n",
    "\n",
    "You can loop through each character in a string using a for loop (or a while loop, but that is more straightforward)\n",
    "\n",
    "    for character in string:\n",
    "        print character"
   ]
  },
  {
   "cell_type": "code",
   "execution_count": null,
   "metadata": {
    "collapsed": false
   },
   "outputs": [],
   "source": [
    "for character in 'Rat':\n",
    "    print character"
   ]
  },
  {
   "cell_type": "code",
   "execution_count": null,
   "metadata": {
    "collapsed": false
   },
   "outputs": [],
   "source": [
    "# Print only vowels\n",
    "for letter in 'ABCDEFGHIJKLMNOPQRSTUVWXYZ':\n",
    "    if letter in 'AEIOUY':\n",
    "        print letter"
   ]
  },
  {
   "cell_type": "markdown",
   "metadata": {},
   "source": [
    "### TRY IT\n",
    "Loop through the chinese zodiac characters, printing only letters that are in you name"
   ]
  },
  {
   "cell_type": "code",
   "execution_count": null,
   "metadata": {
    "collapsed": true
   },
   "outputs": [],
   "source": []
  },
  {
   "cell_type": "markdown",
   "metadata": {},
   "source": [
    "## String Comparison\n",
    "\n",
    "You can compare strings using the `==`, `>`, `>=`, `<`, and `<=` operators. \n",
    "\n",
    "Numbers come first, then capital letters and then lowercase letters. They are actually sorted based on their ascii value http://ascii.cl/"
   ]
  },
  {
   "cell_type": "code",
   "execution_count": null,
   "metadata": {
    "collapsed": false
   },
   "outputs": [],
   "source": [
    "print 'A' > 'a'\n",
    "print 'A' < 'a'\n",
    "print 'A' > 'B'\n",
    "print '0' > 'A'"
   ]
  },
  {
   "cell_type": "code",
   "execution_count": null,
   "metadata": {
    "collapsed": false
   },
   "outputs": [],
   "source": [
    "# Case matters in equality\n",
    "print 'cat' == 'Cat'\n",
    "print 'cat' == 'cat'"
   ]
  },
  {
   "cell_type": "markdown",
   "metadata": {},
   "source": [
    "## String Methods\n",
    "There are several built in methods you can use on your strings. To find them all use dir(str). \n",
    "\n",
    "    'my string'.method_name(params)"
   ]
  },
  {
   "cell_type": "code",
   "execution_count": null,
   "metadata": {
    "collapsed": false
   },
   "outputs": [],
   "source": [
    "dir(chinese_zodiac)"
   ]
  },
  {
   "cell_type": "markdown",
   "metadata": {},
   "source": [
    "lower, upper, title, capitalize, and swapcase all change the case of the string\n",
    "\n",
    "HINT: use one of these methods to transform input to functions so that you don't have to worry about what case the user's input is in "
   ]
  },
  {
   "cell_type": "code",
   "execution_count": null,
   "metadata": {
    "collapsed": false
   },
   "outputs": [],
   "source": [
    "print chinese_zodiac.lower()\n",
    "print chinese_zodiac.upper()"
   ]
  },
  {
   "cell_type": "markdown",
   "metadata": {},
   "source": [
    "Split slices the string into a list  \n",
    "It takes one parameter, the character(s) to split on\n",
    "\n",
    "And join merges a list into a string\n",
    "It operates on the 'glue' string, and the list is the parameter"
   ]
  },
  {
   "cell_type": "code",
   "execution_count": null,
   "metadata": {
    "collapsed": false
   },
   "outputs": [],
   "source": [
    "cz_list = chinese_zodiac.split(' ')\n",
    "print cz_list\n",
    "\n",
    "print ', '.join(cz_list)"
   ]
  },
  {
   "cell_type": "markdown",
   "metadata": {},
   "source": [
    "find, finds the index of a substring (and -1 if it doesn't exist)\n",
    "\n",
    "count counts the occurence of a substring\n",
    "\n",
    "startswith and endswith checks if a string starts or ends with a given substring and returns a boolean"
   ]
  },
  {
   "cell_type": "code",
   "execution_count": null,
   "metadata": {
    "collapsed": false
   },
   "outputs": [],
   "source": [
    "print chinese_zodiac.find('Snake')\n",
    "\n",
    "print chinese_zodiac.count('at')\n",
    "\n",
    "print chinese_zodiac.startswith('Ra')"
   ]
  },
  {
   "cell_type": "markdown",
   "metadata": {},
   "source": [
    "You can chain some string methods if the method also returns a string"
   ]
  },
  {
   "cell_type": "code",
   "execution_count": null,
   "metadata": {
    "collapsed": false
   },
   "outputs": [],
   "source": [
    "print ''.join(cz_list).lower().startswith('ra')"
   ]
  },
  {
   "cell_type": "markdown",
   "metadata": {},
   "source": [
    "### TRY IT\n",
    "Change the case of your elements string to upper case and then split the result on spaces (' ')\n",
    "** Challenge ** do this by chaining string methods"
   ]
  },
  {
   "cell_type": "code",
   "execution_count": null,
   "metadata": {
    "collapsed": true
   },
   "outputs": [],
   "source": []
  },
  {
   "cell_type": "markdown",
   "metadata": {},
   "source": [
    "## Parsing Strings\n",
    "\n",
    "You can use string methods and indexing to get exactly the substring you want."
   ]
  },
  {
   "cell_type": "code",
   "execution_count": null,
   "metadata": {
    "collapsed": false
   },
   "outputs": [],
   "source": [
    "# Lets find the zodiac animals between Ox and Monkey\n",
    "ox_idx = chinese_zodiac.find('Ox')\n",
    "monkey_idx = chinese_zodiac.find('Monkey')\n",
    "\n",
    "print chinese_zodiac[ox_idx:monkey_idx]\n",
    "\n",
    "# Wait, I wanted to exclude Ox\n",
    "ox_end = ox_idx + len('Ox ')\n",
    "print chinese_zodiac[ox_end:monkey_idx]"
   ]
  },
  {
   "cell_type": "markdown",
   "metadata": {},
   "source": [
    "### TRY IT\n",
    "Use string parsing strategies to extract the host name from the email address. (And no, just counting, doesn't count)"
   ]
  },
  {
   "cell_type": "code",
   "execution_count": null,
   "metadata": {
    "collapsed": true
   },
   "outputs": [],
   "source": [
    "email = 'my.name@gmail.com'\n",
    "# Your code should print gmail.com"
   ]
  },
  {
   "cell_type": "markdown",
   "metadata": {},
   "source": [
    "## Formatting\n",
    "\n",
    "String concatanation gets old really fast, and casting numbers and booleans as strings does too. Luckily, there is a better option.\n",
    "\n",
    "String formatting allows you to include variabls directly in you string.\n",
    "    \n",
    "    'string {var} '.format(var1)\n",
    "\n",
    "Each parameter passed to format has an index and can be accessed in the string using {idx}. They don't have to be in order and can be repeated"
   ]
  },
  {
   "cell_type": "code",
   "execution_count": null,
   "metadata": {
    "collapsed": false
   },
   "outputs": [],
   "source": [
    "print '{0} and then {1} and also {2}'.format('string', 1, 2.436526)\n",
    "print '{1} and then {0} and also {2}'.format('string', 1, 2.436526)\n",
    "print '{2} and then {2} and also {2}'.format('string', 1, 2.436526)"
   ]
  },
  {
   "cell_type": "markdown",
   "metadata": {},
   "source": [
    "You can also use variable names. In the parameters use a dictionary (you'll learn about these soon) or key=value syntax."
   ]
  },
  {
   "cell_type": "code",
   "execution_count": null,
   "metadata": {
    "collapsed": false
   },
   "outputs": [],
   "source": [
    "'{fruit} goes well in a {food}'.format(fruit='strawberries', food='smoothie')"
   ]
  },
  {
   "cell_type": "markdown",
   "metadata": {},
   "source": [
    "You can even format the variables in various ways. Reference the docs for everything, there is just too much you can do and I only have so much time to show you."
   ]
  },
  {
   "cell_type": "code",
   "execution_count": null,
   "metadata": {
    "collapsed": false
   },
   "outputs": [],
   "source": [
    "print '{:<30}'.format('left aligned')\n",
    "print '{:>30}'.format('right aligned')\n",
    "print '{:0.2f}; {:0.7f}'.format(3.14, -3.14)  # show a space for positive numbers"
   ]
  },
  {
   "cell_type": "markdown",
   "metadata": {},
   "source": [
    "### TRY IT\n",
    "Use string formatting to make a sentance \"[Your name] finds string formatting [difficulty level]\""
   ]
  },
  {
   "cell_type": "code",
   "execution_count": null,
   "metadata": {
    "collapsed": true
   },
   "outputs": [],
   "source": []
  },
  {
   "cell_type": "markdown",
   "metadata": {},
   "source": [
    "# PROJECT: DNA EXTRAVAGANZA\n",
    "\n",
    "You are going to create a program that does some very simple bioinformatics functions on a DNA input.\n",
    "1. Write a function called 'codons' that takes a dna string and returns to you how many codons are in it (a codon is a group of 3 DNA bases). Examples: AAACCC -> 2  GT -> 0\n",
    "2. Write a function called start which finds the index of the start codon 'ATG' \n",
    "3. Write a function called stop which finds the index of the first stop codon 'TAA' or 'TAG' or 'TGA'\n",
    "4. Write a function called gene which returns the substring of the DNA from the beginning of the start codon to the end of the stop codon (please for the love of all things, use the functions you already wrote to calc start and stop)\n",
    "5. Write a function called transcription that takes the DNA and translates it to RNA. Each letter should be translated using these mappings (A->U), (T->A), (C->G), (G->C).\n",
    "6. Write a function called dnaExtravaganza that calls you functions and print out (using string formatting)\n",
    "\n",
    "    DNA: [DNA]\n",
    "    \n",
    "    CODONS: [Number of codons]\n",
    "    \n",
    "    START: [start index]\n",
    "    \n",
    "    STOP: [stop index]\n",
    "    \n",
    "    GENE: [gene DNA string]\n",
    "    \n",
    "    RNA: [transcribed DNA]"
   ]
  },
  {
   "cell_type": "code",
   "execution_count": null,
   "metadata": {
    "collapsed": true
   },
   "outputs": [],
   "source": []
  }
 ],
 "metadata": {
  "kernelspec": {
   "display_name": "Python 2",
   "language": "python",
   "name": "python2"
  },
  "language_info": {
   "codemirror_mode": {
    "name": "ipython",
    "version": 2
   },
   "file_extension": ".py",
   "mimetype": "text/x-python",
   "name": "python",
   "nbconvert_exporter": "python",
   "pygments_lexer": "ipython2",
   "version": "2.7.10"
  }
 },
 "nbformat": 4,
 "nbformat_minor": 0
}
